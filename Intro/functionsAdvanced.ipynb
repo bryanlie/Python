{
  "nbformat": 4,
  "nbformat_minor": 0,
  "metadata": {
    "colab": {
      "name": "FunctionsAdvanced.ipynb",
      "provenance": [],
      "collapsed_sections": []
    },
    "kernelspec": {
      "name": "python3",
      "display_name": "Python 3"
    }
  },
  "cells": [
    {
      "cell_type": "markdown",
      "metadata": {
        "id": "jLRKSBG9Ft0J",
        "colab_type": "text"
      },
      "source": [
        "# Functions advanced topics  函数高级话题\n",
        "\n",
        "Lambda function 匿名函数\n",
        "\n",
        "filter map reduce 过滤，映射，归约 \n",
        "\n",
        "Iterator 迭代器\n",
        "\n",
        "Generator 生成器\n",
        "\n"
      ]
    },
    {
      "cell_type": "markdown",
      "metadata": {
        "id": "6kZW3xUQwgBX",
        "colab_type": "text"
      },
      "source": [
        "## Lambda function 匿名函数\n",
        "\n",
        "\n",
        "匿名函数是没有名字的函数。\n",
        "\n",
        "语法： ***lambda arguments: expression***\n"
      ]
    },
    {
      "cell_type": "code",
      "metadata": {
        "id": "-IMSvcQAFpdq",
        "colab_type": "code",
        "outputId": "b09a9086-4b29-4886-cc5d-5e011f1f2344",
        "colab": {
          "base_uri": "https://localhost:8080/",
          "height": 35
        }
      },
      "source": [
        "f = lambda x: x * x\n",
        "f(4)"
      ],
      "execution_count": 14,
      "outputs": [
        {
          "output_type": "execute_result",
          "data": {
            "text/plain": [
              "16"
            ]
          },
          "metadata": {
            "tags": []
          },
          "execution_count": 14
        }
      ]
    },
    {
      "cell_type": "code",
      "metadata": {
        "id": "9h7bjBNhxZs_",
        "colab_type": "code",
        "outputId": "c84a26bf-b74b-44b8-f963-880f2d87e39a",
        "colab": {
          "base_uri": "https://localhost:8080/",
          "height": 35
        }
      },
      "source": [
        "def f(x):\n",
        "  return x * x\n",
        "f(4)"
      ],
      "execution_count": 15,
      "outputs": [
        {
          "output_type": "execute_result",
          "data": {
            "text/plain": [
              "16"
            ]
          },
          "metadata": {
            "tags": []
          },
          "execution_count": 15
        }
      ]
    },
    {
      "cell_type": "markdown",
      "metadata": {
        "id": "XHDCq3ghx0Ml",
        "colab_type": "text"
      },
      "source": [
        "以上两个函数的功能是一样。 \n",
        "\n",
        "lambda 可以快速定义简单的单行函数。"
      ]
    },
    {
      "cell_type": "code",
      "metadata": {
        "id": "uJIuZLSG1xvd",
        "colab_type": "code",
        "outputId": "06cd3fd6-6701-4d9f-af0a-f6dd06b964e2",
        "colab": {
          "base_uri": "https://localhost:8080/",
          "height": 35
        }
      },
      "source": [
        "def power(n):\n",
        "  return lambda a: pow(a, n)\n",
        "\n",
        "tenth_pow = power(10)\n",
        "\n",
        "tenth_pow(2)\n"
      ],
      "execution_count": 16,
      "outputs": [
        {
          "output_type": "execute_result",
          "data": {
            "text/plain": [
              "1024"
            ]
          },
          "metadata": {
            "tags": []
          },
          "execution_count": 16
        }
      ]
    },
    {
      "cell_type": "markdown",
      "metadata": {
        "id": "pXo1wNfc4rJm",
        "colab_type": "text"
      },
      "source": [
        "lambda 可以用于返回值\n",
        "\n",
        "上例中定义了一个偏函数（Partial function）"
      ]
    },
    {
      "cell_type": "markdown",
      "metadata": {
        "id": "n6qJ3C5t7A00",
        "colab_type": "text"
      },
      "source": [
        "## filter map reduce 过滤，映射，归约\n",
        "\n",
        "函数的参数可以是另一个函数，这种函数就称之为高阶函数\n",
        "\n",
        "lambda 经常可以和filter() 等高阶函数结合使用，比如做序列解析（List comprehension）"
      ]
    },
    {
      "cell_type": "code",
      "metadata": {
        "id": "GNS83cFl7ObC",
        "colab_type": "code",
        "outputId": "a75e8134-7eec-4fda-96b9-80148d67928c",
        "colab": {
          "base_uri": "https://localhost:8080/",
          "height": 35
        }
      },
      "source": [
        "old_list = [27, 38, 53, 41, 65, 368, 89, 572]\n",
        "\n",
        "new_list = list(filter(lambda x: (x % 2 == 0) , old_list))\n",
        "\n",
        "print(new_list)"
      ],
      "execution_count": 17,
      "outputs": [
        {
          "output_type": "stream",
          "text": [
            "[38, 368, 572]\n"
          ],
          "name": "stdout"
        }
      ]
    },
    {
      "cell_type": "markdown",
      "metadata": {
        "id": "YP-gHdiI8ZLn",
        "colab_type": "text"
      },
      "source": [
        "filter() 接收一个函数和一个序列\n",
        "\n",
        "上例中定义了一个判断偶数的lambda "
      ]
    },
    {
      "cell_type": "code",
      "metadata": {
        "id": "k6NGuRqT8-E1",
        "colab_type": "code",
        "outputId": "f1958b2b-5d66-415c-903f-32be67e8d940",
        "colab": {
          "base_uri": "https://localhost:8080/",
          "height": 71
        }
      },
      "source": [
        "old_list = [27, 38, 53, 41, 65, 368, 89, 572]\n",
        "\n",
        "new_list = list(map(lambda x: x % 2, old_list))\n",
        "print(new_list)\n",
        "\n",
        "another_list = list(map(str, old_list))\n",
        "print(another_list)\n",
        "\n",
        "additions = list(map(\"+\".join, another_list))\n",
        "print(additions)"
      ],
      "execution_count": 18,
      "outputs": [
        {
          "output_type": "stream",
          "text": [
            "[1, 0, 1, 1, 1, 0, 1, 0]\n",
            "['27', '38', '53', '41', '65', '368', '89', '572']\n",
            "['2+7', '3+8', '5+3', '4+1', '6+5', '3+6+8', '8+9', '5+7+2']\n"
          ],
          "name": "stdout"
        }
      ]
    },
    {
      "cell_type": "markdown",
      "metadata": {
        "id": "Z5W5EesQ9fzy",
        "colab_type": "text"
      },
      "source": [
        "map() 也接收一个函数和一个序列\n",
        "\n",
        "如果给一年级小学生出加法题。。。"
      ]
    },
    {
      "cell_type": "code",
      "metadata": {
        "id": "V9pdx7ENDn8a",
        "colab_type": "code",
        "outputId": "33651023-c3ee-4440-9fce-418758c09de2",
        "colab": {
          "base_uri": "https://localhost:8080/",
          "height": 71
        }
      },
      "source": [
        "old_list = [27, 38, 53, 41, 65, 368, 89, 572]\n",
        "\n",
        "new_list = list(filter(lambda x: x < 100, old_list))\n",
        "print(new_list)\n",
        "\n",
        "from functools import reduce\n",
        "sum1 = reduce(lambda a, b: a+b, new_list)\n",
        "print(sum1)\n",
        "\n",
        "import operator \n",
        "sum2 = reduce(operator.add, new_list)\n",
        "print(sum2)"
      ],
      "execution_count": 19,
      "outputs": [
        {
          "output_type": "stream",
          "text": [
            "[27, 38, 53, 41, 65, 89]\n",
            "313\n",
            "313\n"
          ],
          "name": "stdout"
        }
      ]
    },
    {
      "cell_type": "markdown",
      "metadata": {
        "id": "PBlpvznAFV4N",
        "colab_type": "text"
      },
      "source": [
        "如果给三年级小学生出加法题。。。\n",
        "\n",
        "reduce() 也接收一个函数和一个序列\n",
        "\n",
        "reduce() 将函数应用于所有序列元素 \n",
        "\n",
        "上例中求和 (((((27 + 38) + 53) + 41) + 65) + 89)\n",
        "\n",
        "注意要先从 functools 导入 reduce() \n",
        "\n",
        "如果要用add() 可以从 operator 导入"
      ]
    },
    {
      "cell_type": "markdown",
      "metadata": {
        "id": "Z64h5JZatT7V",
        "colab_type": "text"
      },
      "source": [
        "## Iterator 迭代器\n",
        "\n",
        "可以不断返回下一个值的对象称为迭代器：Iterator\n",
        "\n",
        "可以直接作用于for 循环的对象统称为可迭代对象：Iterable"
      ]
    },
    {
      "cell_type": "code",
      "metadata": {
        "id": "pq_OlzBpvvOP",
        "colab_type": "code",
        "outputId": "b03b79ea-1067-4d58-f6ee-4fa4e55ecc67",
        "colab": {
          "base_uri": "https://localhost:8080/",
          "height": 196
        }
      },
      "source": [
        "it = iter(\"Je t'aime\")\n",
        "print(type(it))\n",
        "\n",
        "while True:\n",
        "    try:\n",
        "        x = print(next(it))\n",
        "    except StopIteration:\n",
        "        break"
      ],
      "execution_count": 20,
      "outputs": [
        {
          "output_type": "stream",
          "text": [
            "<class 'str_iterator'>\n",
            "J\n",
            "e\n",
            " \n",
            "t\n",
            "'\n",
            "a\n",
            "i\n",
            "m\n",
            "e\n"
          ],
          "name": "stdout"
        }
      ]
    },
    {
      "cell_type": "markdown",
      "metadata": {
        "id": "2uGyYXMCwh8_",
        "colab_type": "text"
      },
      "source": [
        "iter() 把Iterable 变成 Iterator\n",
        "\n",
        "对Iterator 操作，取下一个值用next()\n",
        "\n",
        "如果迭代超出范围，就抛出错误：StopIteration"
      ]
    },
    {
      "cell_type": "markdown",
      "metadata": {
        "id": "jTB2IdJH9UHt",
        "colab_type": "text"
      },
      "source": [
        "## Generator 生成器\n",
        "\n",
        "生成器是一个函数，它返回一个Iterator 对象，可以对其进行迭代。\n",
        "\n",
        "定义一个生成器，只要用yield 返回需要的值就行了。\n",
        "\n",
        "生成器本质上还是一个迭代器\n"
      ]
    },
    {
      "cell_type": "code",
      "metadata": {
        "id": "ksOBbEd9C_uE",
        "colab_type": "code",
        "outputId": "9cf59230-f2d8-426e-c9ef-152a3b71fd3a",
        "colab": {
          "base_uri": "https://localhost:8080/",
          "height": 196
        }
      },
      "source": [
        "def fib(n):\n",
        "    i, a, b = 0, 0, 1\n",
        "    while i < n:\n",
        "        print(b)\n",
        "        a, b = b, a + b\n",
        "        i += 1\n",
        "    return 'The last one is F' + str(n)\n",
        "\n",
        "fib(9)"
      ],
      "execution_count": 21,
      "outputs": [
        {
          "output_type": "stream",
          "text": [
            "1\n",
            "1\n",
            "2\n",
            "3\n",
            "5\n",
            "8\n",
            "13\n",
            "21\n",
            "34\n"
          ],
          "name": "stdout"
        },
        {
          "output_type": "execute_result",
          "data": {
            "text/plain": [
              "'The last one is F9'"
            ]
          },
          "metadata": {
            "tags": []
          },
          "execution_count": 21
        }
      ]
    },
    {
      "cell_type": "markdown",
      "metadata": {
        "id": "E3Phe59FDiDN",
        "colab_type": "text"
      },
      "source": [
        "斐波那契数列\n",
        "\n",
        "n-th Fibonacci number $F_n = F_{n-1} + F_{n-2}$ 初始值 $F_0 = 0, F_1 = 1$"
      ]
    },
    {
      "cell_type": "code",
      "metadata": {
        "id": "t5pdcbL-E7Y-",
        "colab_type": "code",
        "outputId": "648aa793-dc34-4b96-d8b0-2a4156896203",
        "colab": {
          "base_uri": "https://localhost:8080/",
          "height": 386
        }
      },
      "source": [
        "def fib(n):\n",
        "    i, a, b = 0, 0, 1\n",
        "    while i < n:\n",
        "        yield b\n",
        "        a, b = b, a + b\n",
        "        i += 1\n",
        "    return 'The last one is F' + str(n)\n",
        "\n",
        "fib_gen = fib(9)\n",
        "print(fib_gen)\n",
        "\n",
        "print(next(fib_gen))\n",
        "print(next(fib_gen))\n",
        "print(next(fib_gen))\n",
        "print(next(fib_gen))\n",
        "print(next(fib_gen))\n",
        "print(next(fib_gen))\n",
        "print(next(fib_gen))\n",
        "print(next(fib_gen))\n",
        "print(next(fib_gen))\n",
        "print(next(fib_gen))"
      ],
      "execution_count": 23,
      "outputs": [
        {
          "output_type": "stream",
          "text": [
            "<generator object fib at 0x7fb82b7479e8>\n",
            "1\n",
            "1\n",
            "2\n",
            "3\n",
            "5\n",
            "8\n",
            "13\n",
            "21\n",
            "34\n"
          ],
          "name": "stdout"
        },
        {
          "output_type": "error",
          "ename": "StopIteration",
          "evalue": "ignored",
          "traceback": [
            "\u001b[0;31m---------------------------------------------------------------------------\u001b[0m",
            "\u001b[0;31mStopIteration\u001b[0m                             Traceback (most recent call last)",
            "\u001b[0;32m<ipython-input-23-236c1faa2d7a>\u001b[0m in \u001b[0;36m<module>\u001b[0;34m()\u001b[0m\n\u001b[1;32m     19\u001b[0m \u001b[0mprint\u001b[0m\u001b[0;34m(\u001b[0m\u001b[0mnext\u001b[0m\u001b[0;34m(\u001b[0m\u001b[0mfib_gen\u001b[0m\u001b[0;34m)\u001b[0m\u001b[0;34m)\u001b[0m\u001b[0;34m\u001b[0m\u001b[0;34m\u001b[0m\u001b[0m\n\u001b[1;32m     20\u001b[0m \u001b[0mprint\u001b[0m\u001b[0;34m(\u001b[0m\u001b[0mnext\u001b[0m\u001b[0;34m(\u001b[0m\u001b[0mfib_gen\u001b[0m\u001b[0;34m)\u001b[0m\u001b[0;34m)\u001b[0m\u001b[0;34m\u001b[0m\u001b[0;34m\u001b[0m\u001b[0m\n\u001b[0;32m---> 21\u001b[0;31m \u001b[0mprint\u001b[0m\u001b[0;34m(\u001b[0m\u001b[0mnext\u001b[0m\u001b[0;34m(\u001b[0m\u001b[0mfib_gen\u001b[0m\u001b[0;34m)\u001b[0m\u001b[0;34m)\u001b[0m\u001b[0;34m\u001b[0m\u001b[0;34m\u001b[0m\u001b[0m\n\u001b[0m",
            "\u001b[0;31mStopIteration\u001b[0m: The last one is F9"
          ]
        }
      ]
    },
    {
      "cell_type": "markdown",
      "metadata": {
        "id": "NZUHJbndHFS8",
        "colab_type": "text"
      },
      "source": [
        "\n",
        "每次调用next()，就计算出下一个元素的值\n",
        "\n",
        "return 有别于 yield: return 完全终止一个函数，但yield 暂停函数并保存现有状态，然后在后续调用中从那里继续执行。"
      ]
    },
    {
      "cell_type": "code",
      "metadata": {
        "id": "60QKcPKUI0eh",
        "colab_type": "code",
        "outputId": "8fd3854f-483c-458a-be22-91ee1d780676",
        "colab": {
          "base_uri": "https://localhost:8080/",
          "height": 124
        }
      },
      "source": [
        "fib_seq = [1, 2, 3, 5, 8, 13, 21, 34, 55, 89, 144]\n",
        "\n",
        "fib_shifted = [2, 3, 5, 8, 13, 21, 34, 55, 89, 144, 233]\n",
        "\n",
        "golden_ratio = [round(a / b, 3) for a, b in zip(fib_shifted, fib_seq)]\n",
        "print(golden_ratio)\n",
        "\n",
        "ratio1 = [round(a / b, 3) for a, b in zip(fib_seq, fib_shifted)]\n",
        "print(ratio1)\n",
        "\n",
        "ratio2 = [round(a / b, 3) for a, b in zip(fib_seq[:-1], fib_shifted[1:])]\n",
        "print(ratio2)\n",
        "\n",
        "ratio3 = [round(a / b, 3) for a, b in zip(fib_seq[:-2], fib_shifted[2:])]\n",
        "print(ratio3)\n",
        "\n",
        "import math\n",
        "ratio0 = [round(math.sqrt(r), 3) for r in ratio1]\n",
        "print(ratio0)\n",
        "fib_ratios = [ratio3[-1], ratio2[-1], ratio1[-1], ratio0[-1]]\n",
        "print(fib_ratios)"
      ],
      "execution_count": 24,
      "outputs": [
        {
          "output_type": "stream",
          "text": [
            "[2.0, 1.5, 1.667, 1.6, 1.625, 1.615, 1.619, 1.618, 1.618, 1.618, 1.618]\n",
            "[0.5, 0.667, 0.6, 0.625, 0.615, 0.619, 0.618, 0.618, 0.618, 0.618, 0.618]\n",
            "[0.333, 0.4, 0.375, 0.385, 0.381, 0.382, 0.382, 0.382, 0.382, 0.382]\n",
            "[0.2, 0.25, 0.231, 0.238, 0.235, 0.236, 0.236, 0.236, 0.236]\n",
            "[0.707, 0.817, 0.775, 0.791, 0.784, 0.787, 0.786, 0.786, 0.786, 0.786, 0.786]\n",
            "[0.236, 0.382, 0.618, 0.786]\n"
          ],
          "name": "stdout"
        }
      ]
    },
    {
      "cell_type": "markdown",
      "metadata": {
        "id": "ylkQCwYePt9N",
        "colab_type": "text"
      },
      "source": [
        "神奇的斐波那契数列如何应用于技术分析\n",
        "\n",
        "黄金比率 $\\phi = \\frac{1 + \\sqrt{5}}{2} = 1.618...$\n",
        "\n",
        "黄金分割 $\\Phi = \\frac{1}{\\phi} = \\phi - 1 = 0.618... $\n",
        "\n",
        "黄金比率可以用斐波那契序列相邻元素的商来逼近，$\\lim_{n} {F_{n+1}}/{F_{n}} = \\phi$\n",
        "\n",
        "同样地，可以得到三个重要比例 \n",
        "\n",
        "$\\lim_{n} {F_{n}}/{F_{n+1}} = 0.618$\n",
        "\n",
        "$\\lim_{n} {F_{n}}/{F_{n+2}} = 0.382$\n",
        "\n",
        "$\\lim_{n} {F_{n}}/{F_{n+3}} = 0.236$\n",
        "\n",
        "有时还加上黄金分割的平方根 $\\sqrt{\\Phi} = 0.786$\n",
        "\n",
        "生成斐波那契比例 $[23.6\\%, 38.2\\%, 61.8\\%, 78.6\\%]$\n",
        "\n",
        "用于股票技术分析可找到重要支撑或阻力线。比如当价格大幅上涨时，通常会趋向于按斐波那契比例回撤，然后继续沿原方向上涨。\n",
        "\n",
        "背后原因属于市场心理/行为学范畴。"
      ]
    },
    {
      "cell_type": "code",
      "metadata": {
        "id": "3hVYXlfQt8X1",
        "colab_type": "code",
        "outputId": "216ab1ae-48ab-4c16-bce5-df5ad1144ace",
        "colab": {
          "base_uri": "https://localhost:8080/",
          "height": 249
        }
      },
      "source": [
        "fib_seq = [1, 2, 3, 5, 8, 13, 21, 34, 55, 89, 144]\n",
        "PHI = 1.618\n",
        "print([int(round(fn * PHI)) for fn in fib_seq])\n",
        "fib_gen = (int(round(fn * PHI)) for fn in fib_seq)\n",
        "print(fib_gen)\n",
        "\n",
        "for fn in fib_gen:\n",
        "  print(fn)"
      ],
      "execution_count": 25,
      "outputs": [
        {
          "output_type": "stream",
          "text": [
            "[2, 3, 5, 8, 13, 21, 34, 55, 89, 144, 233]\n",
            "<generator object <genexpr> at 0x7fb82b747780>\n",
            "2\n",
            "3\n",
            "5\n",
            "8\n",
            "13\n",
            "21\n",
            "34\n",
            "55\n",
            "89\n",
            "144\n",
            "233\n"
          ],
          "name": "stdout"
        }
      ]
    },
    {
      "cell_type": "markdown",
      "metadata": {
        "id": "mGXizV7I0qf4",
        "colab_type": "text"
      },
      "source": [
        "用() 代替 [ ] 就可以简单地把list 变成 generator expression 生成器表达式，即匿名生成器\n"
      ]
    }
  ]
}