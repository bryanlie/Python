{
  "nbformat": 4,
  "nbformat_minor": 0,
  "metadata": {
    "colab": {
      "name": "Pandas.ipynb",
      "provenance": [],
      "collapsed_sections": []
    },
    "kernelspec": {
      "name": "python3",
      "display_name": "Python 3"
    }
  },
  "cells": [
    {
      "cell_type": "markdown",
      "metadata": {
        "id": "C5j_Y37N9gyL",
        "colab_type": "text"
      },
      "source": [
        "# Pandas\n",
        "\n",
        "Pandas 是一个用于数据分析的Python库。Pandas 是在Numpy 的基础上设计的。\n",
        "\n",
        "Pandas 的两种数据结构(DataFrame 和 Series)设计初衷是用于关系型或带标签的数据， 类似管理与SQL关系数据库和Excel工作表。\n",
        "\n",
        "Pandas为时间序列分析提供了很好的支持。\n",
        "\n",
        "如果有必要，先安装 Pandas"
      ]
    },
    {
      "cell_type": "code",
      "metadata": {
        "id": "i7T8FEDR9Qkb",
        "colab_type": "code",
        "colab": {
          "base_uri": "https://localhost:8080/",
          "height": 124
        },
        "outputId": "c6bd691d-62d2-4bce-f153-1dc433cad901"
      },
      "source": [
        "import sys\n",
        "!{sys.executable} -m pip install pandas\n",
        "\n",
        "import pandas as pd\n",
        "print(pd.__version__)"
      ],
      "execution_count": null,
      "outputs": [
        {
          "output_type": "stream",
          "text": [
            "Requirement already satisfied: pandas in /usr/local/lib/python3.6/dist-packages (1.0.5)\n",
            "Requirement already satisfied: python-dateutil>=2.6.1 in /usr/local/lib/python3.6/dist-packages (from pandas) (2.8.1)\n",
            "Requirement already satisfied: numpy>=1.13.3 in /usr/local/lib/python3.6/dist-packages (from pandas) (1.18.5)\n",
            "Requirement already satisfied: pytz>=2017.2 in /usr/local/lib/python3.6/dist-packages (from pandas) (2018.9)\n",
            "Requirement already satisfied: six>=1.5 in /usr/local/lib/python3.6/dist-packages (from python-dateutil>=2.6.1->pandas) (1.12.0)\n",
            "1.0.5\n"
          ],
          "name": "stdout"
        }
      ]
    },
    {
      "cell_type": "markdown",
      "metadata": {
        "id": "W8_mdPJi_3W1",
        "colab_type": "text"
      },
      "source": [
        "## DataFrame 对象\n",
        "\n",
        "DataFrame 数据帧是二维的表格型数据结构。\n",
        "\n",
        "DataFrame 的构造函数语法是： *pandas.DataFrame( data, index, columns, dtype, copy)*\n",
        "\n",
        "其中 data 支持多种数据类型，比如 ndarray，list，dict, Series, DataFrame 等"
      ]
    },
    {
      "cell_type": "code",
      "metadata": {
        "id": "wj0THE0HDETP",
        "colab_type": "code",
        "colab": {
          "base_uri": "https://localhost:8080/",
          "height": 88
        },
        "outputId": "05b46485-047f-4b36-e8fe-bef94fe3df4a"
      },
      "source": [
        "data = [['Alex',10],['Bob',12],['Clarke',13]]\n",
        "df = pd.DataFrame(data,columns=['Name','Age'])\n",
        "print (df)"
      ],
      "execution_count": null,
      "outputs": [
        {
          "output_type": "stream",
          "text": [
            "     Name  Age\n",
            "0    Alex   10\n",
            "1     Bob   12\n",
            "2  Clarke   13\n"
          ],
          "name": "stdout"
        }
      ]
    },
    {
      "cell_type": "code",
      "metadata": {
        "id": "ljmR9Ox4DzAY",
        "colab_type": "code",
        "colab": {
          "base_uri": "https://localhost:8080/",
          "height": 106
        },
        "outputId": "23d0cd40-8938-4e1b-9657-c1b150159ead"
      },
      "source": [
        "my_dict = {'Name':['Tom', 'Jack', 'Steve', 'Ricky'],'Age':[28,34,29,42]}\n",
        "df = pd.DataFrame(my_dict, index=['a','b','c','d'], dtype=float)\n",
        "print (df)"
      ],
      "execution_count": null,
      "outputs": [
        {
          "output_type": "stream",
          "text": [
            "    Name   Age\n",
            "a    Tom  28.0\n",
            "b   Jack  34.0\n",
            "c  Steve  29.0\n",
            "d  Ricky  42.0\n"
          ],
          "name": "stdout"
        }
      ]
    },
    {
      "cell_type": "markdown",
      "metadata": {
        "id": "PmPp05sGnB6g",
        "colab_type": "text"
      },
      "source": [
        "## 读取数据\n",
        "\n",
        "列名称用来读取列，loc 或iloc 读取行\n",
        "\n",
        "loc  用index 的名称\n",
        "\n",
        "iloc 用index 的整数位置"
      ]
    },
    {
      "cell_type": "code",
      "metadata": {
        "id": "ZroSvui2FkO-",
        "colab_type": "code",
        "colab": {
          "base_uri": "https://localhost:8080/",
          "height": 106
        },
        "outputId": "22b26a55-b41e-4d68-a0c1-5ec0db65e5b7"
      },
      "source": [
        "print(df['Name'])"
      ],
      "execution_count": null,
      "outputs": [
        {
          "output_type": "stream",
          "text": [
            "a      Tom\n",
            "b     Jack\n",
            "c    Steve\n",
            "d    Ricky\n",
            "Name: Name, dtype: object\n"
          ],
          "name": "stdout"
        }
      ]
    },
    {
      "cell_type": "code",
      "metadata": {
        "id": "RHmchNiEFVxx",
        "colab_type": "code",
        "colab": {
          "base_uri": "https://localhost:8080/",
          "height": 71
        },
        "outputId": "a99a4bb4-e924-4ab7-b2a3-3b1f3228c3ee"
      },
      "source": [
        "print(df.loc[['a', 'd']])"
      ],
      "execution_count": null,
      "outputs": [
        {
          "output_type": "stream",
          "text": [
            "    Name   Age\n",
            "a    Tom  28.0\n",
            "d  Ricky  42.0\n"
          ],
          "name": "stdout"
        }
      ]
    },
    {
      "cell_type": "code",
      "metadata": {
        "id": "Sts8Gb01FdPR",
        "colab_type": "code",
        "colab": {
          "base_uri": "https://localhost:8080/",
          "height": 71
        },
        "outputId": "1bc38a48-f5e7-4e11-9523-80c15433e866"
      },
      "source": [
        "print(df.iloc[1:3])"
      ],
      "execution_count": null,
      "outputs": [
        {
          "output_type": "stream",
          "text": [
            "    Name   Age\n",
            "b   Jack  34.0\n",
            "c  Steve  29.0\n"
          ],
          "name": "stdout"
        }
      ]
    },
    {
      "cell_type": "markdown",
      "metadata": {
        "id": "0Kfc6cZMnVOp",
        "colab_type": "text"
      },
      "source": [
        "## 添加数据\n",
        "\n",
        "用列名称直接加一列数据，append() 添加行数据"
      ]
    },
    {
      "cell_type": "code",
      "metadata": {
        "id": "yi8OQnTWGRLf",
        "colab_type": "code",
        "colab": {
          "base_uri": "https://localhost:8080/",
          "height": 321
        },
        "outputId": "b124ea3e-f2e3-4e66-c608-d965a7c85802"
      },
      "source": [
        "df['isMarried'] = [True, False, False, True]\n",
        "print(df)\n",
        "\n",
        "df1 = df.append({'Name': 'Mike', 'Age': 56.0, 'isMarried': True}, ignore_index=True)\n",
        "print(df1)\n",
        "\n",
        "df2 = df.append(pd.DataFrame({'Name': 'Mike', 'Age': 56.0, 'isMarried': True}, index=['g',]))\n",
        "print(df2)"
      ],
      "execution_count": null,
      "outputs": [
        {
          "output_type": "stream",
          "text": [
            "    Name   Age  isMarried\n",
            "a    Tom  28.0       True\n",
            "b   Jack  34.0      False\n",
            "c  Steve  29.0      False\n",
            "d  Ricky  42.0       True\n",
            "    Name   Age  isMarried\n",
            "0    Tom  28.0       True\n",
            "1   Jack  34.0      False\n",
            "2  Steve  29.0      False\n",
            "3  Ricky  42.0       True\n",
            "4   Mike  56.0       True\n",
            "    Name   Age  isMarried\n",
            "a    Tom  28.0       True\n",
            "b   Jack  34.0      False\n",
            "c  Steve  29.0      False\n",
            "d  Ricky  42.0       True\n",
            "g   Mike  56.0       True\n"
          ],
          "name": "stdout"
        }
      ]
    },
    {
      "cell_type": "markdown",
      "metadata": {
        "id": "tVGmfD9Knnd9",
        "colab_type": "text"
      },
      "source": [
        "## 删除数据\n",
        "\n",
        "一般用 drop()\n",
        "\n",
        "axis = 0 表示行，axis = 1 表示列，默认为行"
      ]
    },
    {
      "cell_type": "code",
      "metadata": {
        "id": "TAFsw-5KGvbW",
        "colab_type": "code",
        "colab": {
          "base_uri": "https://localhost:8080/",
          "height": 214
        },
        "outputId": "6eb5b4fc-a1d7-4770-d525-be1c4be9d71b"
      },
      "source": [
        "df1.drop(4, inplace=True)\n",
        "print(df1)\n",
        "\n",
        "del df2['Age']\n",
        "print(df2)"
      ],
      "execution_count": null,
      "outputs": [
        {
          "output_type": "stream",
          "text": [
            "    Name   Age  isMarried\n",
            "0    Tom  28.0       True\n",
            "1   Jack  34.0      False\n",
            "2  Steve  29.0      False\n",
            "3  Ricky  42.0       True\n",
            "    Name  isMarried\n",
            "a    Tom       True\n",
            "b   Jack      False\n",
            "c  Steve      False\n",
            "d  Ricky       True\n",
            "g   Mike       True\n"
          ],
          "name": "stdout"
        }
      ]
    },
    {
      "cell_type": "markdown",
      "metadata": {
        "id": "Jo_BX3unnumz",
        "colab_type": "text"
      },
      "source": [
        "## DataFrame 属性\n",
        "\n",
        "基本和Numpy 差不多"
      ]
    },
    {
      "cell_type": "code",
      "metadata": {
        "id": "0saiWEoDNpNU",
        "colab_type": "code",
        "colab": {
          "base_uri": "https://localhost:8080/",
          "height": 124
        },
        "outputId": "99ad450f-516c-48d8-aad4-e1cfb4445607"
      },
      "source": [
        "print(df.shape)\n",
        "print(df.ndim)\n",
        "print(df.values)\n"
      ],
      "execution_count": null,
      "outputs": [
        {
          "output_type": "stream",
          "text": [
            "(4, 3)\n",
            "2\n",
            "[['Tom' 28.0 True]\n",
            " ['Jack' 34.0 False]\n",
            " ['Steve' 29.0 False]\n",
            " ['Ricky' 42.0 True]]\n"
          ],
          "name": "stdout"
        }
      ]
    },
    {
      "cell_type": "markdown",
      "metadata": {
        "id": "F4L2W8OFOjjH",
        "colab_type": "text"
      },
      "source": [
        "## DataFrame 方法\n",
        "\n",
        "统计类方法比较实用\n"
      ]
    },
    {
      "cell_type": "code",
      "metadata": {
        "id": "0jwWX0CIOn6C",
        "colab_type": "code",
        "colab": {
          "base_uri": "https://localhost:8080/",
          "height": 214
        },
        "outputId": "578ec776-87ea-4480-cafc-458e2245fd17"
      },
      "source": [
        "print(df.info())"
      ],
      "execution_count": null,
      "outputs": [
        {
          "output_type": "stream",
          "text": [
            "<class 'pandas.core.frame.DataFrame'>\n",
            "Index: 4 entries, a to d\n",
            "Data columns (total 3 columns):\n",
            " #   Column     Non-Null Count  Dtype  \n",
            "---  ------     --------------  -----  \n",
            " 0   Name       4 non-null      object \n",
            " 1   Age        4 non-null      float64\n",
            " 2   isMarried  4 non-null      bool   \n",
            "dtypes: bool(1), float64(1), object(1)\n",
            "memory usage: 260.0+ bytes\n",
            "None\n"
          ],
          "name": "stdout"
        }
      ]
    },
    {
      "cell_type": "code",
      "metadata": {
        "id": "UvPeIVwqOpvw",
        "colab_type": "code",
        "colab": {
          "base_uri": "https://localhost:8080/",
          "height": 178
        },
        "outputId": "daa35bba-2c89-4176-cc0a-85b43921d419"
      },
      "source": [
        "print(df.describe())"
      ],
      "execution_count": null,
      "outputs": [
        {
          "output_type": "stream",
          "text": [
            "             Age\n",
            "count   4.000000\n",
            "mean   33.250000\n",
            "std     6.396614\n",
            "min    28.000000\n",
            "25%    28.750000\n",
            "50%    31.500000\n",
            "75%    36.000000\n",
            "max    42.000000\n"
          ],
          "name": "stdout"
        }
      ]
    },
    {
      "cell_type": "markdown",
      "metadata": {
        "id": "SXlfn_TZAHau",
        "colab_type": "text"
      },
      "source": [
        "# Series 对象\n",
        "\n",
        "Series 是一维数组，时间序列(Time-Series) 是以时间为索引(Index) 的Series。\n",
        "\n",
        "Series 构造函数语法是：*pandas.Series( data, index, dtype, copy)*"
      ]
    },
    {
      "cell_type": "code",
      "metadata": {
        "id": "CebD3NG8PZ_p",
        "colab_type": "code",
        "colab": {
          "base_uri": "https://localhost:8080/",
          "height": 249
        },
        "outputId": "b942c14e-cf49-4791-b20f-900652a91efa"
      },
      "source": [
        "import numpy as np\n",
        "s = pd.Series(np.linspace(0, 30, 12), name='series')\n",
        "print(s)"
      ],
      "execution_count": null,
      "outputs": [
        {
          "output_type": "stream",
          "text": [
            "0      0.000000\n",
            "1      2.727273\n",
            "2      5.454545\n",
            "3      8.181818\n",
            "4     10.909091\n",
            "5     13.636364\n",
            "6     16.363636\n",
            "7     19.090909\n",
            "8     21.818182\n",
            "9     24.545455\n",
            "10    27.272727\n",
            "11    30.000000\n",
            "Name: series, dtype: float64\n"
          ],
          "name": "stdout"
        }
      ]
    },
    {
      "cell_type": "code",
      "metadata": {
        "id": "n4GaLDABQKBr",
        "colab_type": "code",
        "colab": {
          "base_uri": "https://localhost:8080/",
          "height": 249
        },
        "outputId": "7cd1118d-8c7d-4c89-b13c-310bf9e9a810"
      },
      "source": [
        "dates = pd.date_range('2019-1-1', periods=12, freq='M')\n",
        "s.index = dates\n",
        "print(s)"
      ],
      "execution_count": null,
      "outputs": [
        {
          "output_type": "stream",
          "text": [
            "2019-01-31     0.000000\n",
            "2019-02-28     2.727273\n",
            "2019-03-31     5.454545\n",
            "2019-04-30     8.181818\n",
            "2019-05-31    10.909091\n",
            "2019-06-30    13.636364\n",
            "2019-07-31    16.363636\n",
            "2019-08-31    19.090909\n",
            "2019-09-30    21.818182\n",
            "2019-10-31    24.545455\n",
            "2019-11-30    27.272727\n",
            "2019-12-31    30.000000\n",
            "Freq: M, Name: series, dtype: float64\n"
          ],
          "name": "stdout"
        }
      ]
    },
    {
      "cell_type": "code",
      "metadata": {
        "id": "_-iVg3LZQ--r",
        "colab_type": "code",
        "colab": {
          "base_uri": "https://localhost:8080/",
          "height": 285
        },
        "outputId": "48f39a45-a6df-4f7f-e855-63c4dd6531e2"
      },
      "source": [
        "print(s.values)\n",
        "print(s.value_counts())"
      ],
      "execution_count": null,
      "outputs": [
        {
          "output_type": "stream",
          "text": [
            "[ 0.          2.72727273  5.45454545  8.18181818 10.90909091 13.63636364\n",
            " 16.36363636 19.09090909 21.81818182 24.54545455 27.27272727 30.        ]\n",
            "21.818182    1\n",
            "13.636364    1\n",
            "24.545455    1\n",
            "2.727273     1\n",
            "10.909091    1\n",
            "27.272727    1\n",
            "8.181818     1\n",
            "5.454545     1\n",
            "19.090909    1\n",
            "30.000000    1\n",
            "16.363636    1\n",
            "0.000000     1\n",
            "Name: series, dtype: int64\n"
          ],
          "name": "stdout"
        }
      ]
    },
    {
      "cell_type": "markdown",
      "metadata": {
        "id": "T14R1B8OETTM",
        "colab_type": "text"
      },
      "source": [
        "value_counts()是Series拥有的方法，是一种查看表格某列中有多少个不同值的快捷方法，并计算每个不同值有在该列中有多少重复值。"
      ]
    },
    {
      "cell_type": "code",
      "metadata": {
        "id": "B5xH5-AgRrf7",
        "colab_type": "code",
        "colab": {
          "base_uri": "https://localhost:8080/",
          "height": 53
        },
        "outputId": "a65b17b3-ce35-4ba2-a0d8-9a1faf13a100"
      },
      "source": [
        "print(s.sum())\n",
        "print(s.std())"
      ],
      "execution_count": null,
      "outputs": [
        {
          "output_type": "stream",
          "text": [
            "180.0\n",
            "9.833321660356333\n"
          ],
          "name": "stdout"
        }
      ]
    },
    {
      "cell_type": "markdown",
      "metadata": {
        "id": "7j0IJ1A3Kg8y",
        "colab_type": "text"
      },
      "source": [
        "# DataFrame 高级篇"
      ]
    },
    {
      "cell_type": "code",
      "metadata": {
        "id": "_Tv6F04Z1htQ",
        "colab_type": "code",
        "colab": {
          "base_uri": "https://localhost:8080/",
          "height": 249
        },
        "outputId": "1972b592-9514-48e1-9ef0-2dd0d9a86d87"
      },
      "source": [
        "df = pd.DataFrame(data=s)\n",
        "print(df)"
      ],
      "execution_count": null,
      "outputs": [
        {
          "output_type": "stream",
          "text": [
            "               series\n",
            "2019-01-31   0.000000\n",
            "2019-02-28   2.727273\n",
            "2019-03-31   5.454545\n",
            "2019-04-30   8.181818\n",
            "2019-05-31  10.909091\n",
            "2019-06-30  13.636364\n",
            "2019-07-31  16.363636\n",
            "2019-08-31  19.090909\n",
            "2019-09-30  21.818182\n",
            "2019-10-31  24.545455\n",
            "2019-11-30  27.272727\n",
            "2019-12-31  30.000000\n"
          ],
          "name": "stdout"
        }
      ]
    },
    {
      "cell_type": "code",
      "metadata": {
        "id": "i7avKoIi2KkG",
        "colab_type": "code",
        "colab": {
          "base_uri": "https://localhost:8080/",
          "height": 249
        },
        "outputId": "0620043a-790b-484b-a8af-db1bad80e697"
      },
      "source": [
        "df['stat'] = np.random.randn(12)\n",
        "print(df)"
      ],
      "execution_count": null,
      "outputs": [
        {
          "output_type": "stream",
          "text": [
            "               series      stat\n",
            "2019-01-31   0.000000 -0.710132\n",
            "2019-02-28   2.727273 -1.002890\n",
            "2019-03-31   5.454545 -0.872371\n",
            "2019-04-30   8.181818  0.053144\n",
            "2019-05-31  10.909091 -0.379305\n",
            "2019-06-30  13.636364 -0.277588\n",
            "2019-07-31  16.363636  0.814426\n",
            "2019-08-31  19.090909  0.566164\n",
            "2019-09-30  21.818182  1.012904\n",
            "2019-10-31  24.545455  1.444571\n",
            "2019-11-30  27.272727 -0.812595\n",
            "2019-12-31  30.000000  1.083204\n"
          ],
          "name": "stdout"
        }
      ]
    },
    {
      "cell_type": "code",
      "metadata": {
        "id": "MVgPQHH52a9T",
        "colab_type": "code",
        "colab": {
          "base_uri": "https://localhost:8080/",
          "height": 249
        },
        "outputId": "723f346c-fa80-4396-c85c-91777db218bf"
      },
      "source": [
        "df['quarter'] = ['Q1', 'Q1', 'Q1', 'Q2', 'Q2', 'Q2', 'Q3', 'Q3', 'Q3', 'Q4', 'Q4', 'Q4']\n",
        "print(df)"
      ],
      "execution_count": null,
      "outputs": [
        {
          "output_type": "stream",
          "text": [
            "               series      stat quarter\n",
            "2019-01-31   0.000000 -0.710132      Q1\n",
            "2019-02-28   2.727273 -1.002890      Q1\n",
            "2019-03-31   5.454545 -0.872371      Q1\n",
            "2019-04-30   8.181818  0.053144      Q2\n",
            "2019-05-31  10.909091 -0.379305      Q2\n",
            "2019-06-30  13.636364 -0.277588      Q2\n",
            "2019-07-31  16.363636  0.814426      Q3\n",
            "2019-08-31  19.090909  0.566164      Q3\n",
            "2019-09-30  21.818182  1.012904      Q3\n",
            "2019-10-31  24.545455  1.444571      Q4\n",
            "2019-11-30  27.272727 -0.812595      Q4\n",
            "2019-12-31  30.000000  1.083204      Q4\n"
          ],
          "name": "stdout"
        }
      ]
    },
    {
      "cell_type": "markdown",
      "metadata": {
        "id": "_hhDW1mWK2rV",
        "colab_type": "text"
      },
      "source": [
        "## grouping\n",
        "\n",
        "比较常用的是groupby() 方法"
      ]
    },
    {
      "cell_type": "code",
      "metadata": {
        "id": "dq5i37nx215E",
        "colab_type": "code",
        "colab": {
          "base_uri": "https://localhost:8080/",
          "height": 363
        },
        "outputId": "542e88ec-c733-4ee3-c21d-6f03d2bd4f64"
      },
      "source": [
        "groups = df.groupby('quarter')\n",
        "print(groups)\n",
        "print(groups.mean())\n",
        "groups.aggregate([min, max]).round(2)"
      ],
      "execution_count": null,
      "outputs": [
        {
          "output_type": "stream",
          "text": [
            "<pandas.core.groupby.generic.DataFrameGroupBy object at 0x7f63bc03d780>\n",
            "            series      stat\n",
            "quarter                     \n",
            "Q1        2.727273 -0.861798\n",
            "Q2       10.909091 -0.201250\n",
            "Q3       19.090909  0.797831\n",
            "Q4       27.272727  0.571727\n"
          ],
          "name": "stdout"
        },
        {
          "output_type": "execute_result",
          "data": {
            "text/html": [
              "<div>\n",
              "<style scoped>\n",
              "    .dataframe tbody tr th:only-of-type {\n",
              "        vertical-align: middle;\n",
              "    }\n",
              "\n",
              "    .dataframe tbody tr th {\n",
              "        vertical-align: top;\n",
              "    }\n",
              "\n",
              "    .dataframe thead tr th {\n",
              "        text-align: left;\n",
              "    }\n",
              "\n",
              "    .dataframe thead tr:last-of-type th {\n",
              "        text-align: right;\n",
              "    }\n",
              "</style>\n",
              "<table border=\"1\" class=\"dataframe\">\n",
              "  <thead>\n",
              "    <tr>\n",
              "      <th></th>\n",
              "      <th colspan=\"2\" halign=\"left\">series</th>\n",
              "      <th colspan=\"2\" halign=\"left\">stat</th>\n",
              "    </tr>\n",
              "    <tr>\n",
              "      <th></th>\n",
              "      <th>min</th>\n",
              "      <th>max</th>\n",
              "      <th>min</th>\n",
              "      <th>max</th>\n",
              "    </tr>\n",
              "    <tr>\n",
              "      <th>quarter</th>\n",
              "      <th></th>\n",
              "      <th></th>\n",
              "      <th></th>\n",
              "      <th></th>\n",
              "    </tr>\n",
              "  </thead>\n",
              "  <tbody>\n",
              "    <tr>\n",
              "      <th>Q1</th>\n",
              "      <td>0.00</td>\n",
              "      <td>5.45</td>\n",
              "      <td>-1.00</td>\n",
              "      <td>-0.71</td>\n",
              "    </tr>\n",
              "    <tr>\n",
              "      <th>Q2</th>\n",
              "      <td>8.18</td>\n",
              "      <td>13.64</td>\n",
              "      <td>-0.38</td>\n",
              "      <td>0.05</td>\n",
              "    </tr>\n",
              "    <tr>\n",
              "      <th>Q3</th>\n",
              "      <td>16.36</td>\n",
              "      <td>21.82</td>\n",
              "      <td>0.57</td>\n",
              "      <td>1.01</td>\n",
              "    </tr>\n",
              "    <tr>\n",
              "      <th>Q4</th>\n",
              "      <td>24.55</td>\n",
              "      <td>30.00</td>\n",
              "      <td>-0.81</td>\n",
              "      <td>1.44</td>\n",
              "    </tr>\n",
              "  </tbody>\n",
              "</table>\n",
              "</div>"
            ],
            "text/plain": [
              "        series         stat      \n",
              "           min    max   min   max\n",
              "quarter                          \n",
              "Q1        0.00   5.45 -1.00 -0.71\n",
              "Q2        8.18  13.64 -0.38  0.05\n",
              "Q3       16.36  21.82  0.57  1.01\n",
              "Q4       24.55  30.00 -0.81  1.44"
            ]
          },
          "metadata": {
            "tags": []
          },
          "execution_count": 19
        }
      ]
    },
    {
      "cell_type": "markdown",
      "metadata": {
        "id": "snoYjqAA4sG5",
        "colab_type": "text"
      },
      "source": [
        "## Concatenation\n",
        "\n",
        "类似于SQL数据库的表操作"
      ]
    },
    {
      "cell_type": "code",
      "metadata": {
        "id": "1qjBgawv4xEq",
        "colab_type": "code",
        "colab": {
          "base_uri": "https://localhost:8080/",
          "height": 178
        },
        "outputId": "6f5d1b09-0283-468d-fd53-e34d17ed963d"
      },
      "source": [
        "df1 = pd.DataFrame(['100', '200', '300', '400'], index=['a', 'b', 'c', 'd'], columns=['A',])\n",
        "print(df1)\n",
        "\n",
        "df2 = pd.DataFrame(['200', '150', '50'], index=['f', 'b', 'd'], columns=['B',])\n",
        "print(df2)"
      ],
      "execution_count": null,
      "outputs": [
        {
          "output_type": "stream",
          "text": [
            "     A\n",
            "a  100\n",
            "b  200\n",
            "c  300\n",
            "d  400\n",
            "     B\n",
            "f  200\n",
            "b  150\n",
            "d   50\n"
          ],
          "name": "stdout"
        }
      ]
    },
    {
      "cell_type": "code",
      "metadata": {
        "id": "4XkeM9FA5EFW",
        "colab_type": "code",
        "colab": {
          "base_uri": "https://localhost:8080/",
          "height": 303
        },
        "outputId": "cdd875b3-217a-4726-8696-233edddeb6e3"
      },
      "source": [
        "df3 = df1.append(df2, sort=False)\n",
        "print(df3)\n",
        "\n",
        "df3 = pd.concat((df1, df2), sort=False)\n",
        "print(df3)"
      ],
      "execution_count": null,
      "outputs": [
        {
          "output_type": "stream",
          "text": [
            "     A    B\n",
            "a  100  NaN\n",
            "b  200  NaN\n",
            "c  300  NaN\n",
            "d  400  NaN\n",
            "f  NaN  200\n",
            "b  NaN  150\n",
            "d  NaN   50\n",
            "     A    B\n",
            "a  100  NaN\n",
            "b  200  NaN\n",
            "c  300  NaN\n",
            "d  400  NaN\n",
            "f  NaN  200\n",
            "b  NaN  150\n",
            "d  NaN   50\n"
          ],
          "name": "stdout"
        }
      ]
    },
    {
      "cell_type": "markdown",
      "metadata": {
        "id": "sKv00fZuMyRa",
        "colab_type": "text"
      },
      "source": [
        "## Joining "
      ]
    },
    {
      "cell_type": "code",
      "metadata": {
        "id": "UM54t0_h5lpW",
        "colab_type": "code",
        "colab": {
          "base_uri": "https://localhost:8080/",
          "height": 196
        },
        "outputId": "aac6db2d-1af5-4957-c061-09dd1db65843"
      },
      "source": [
        "df3 = df1.join(df2)\n",
        "print(df3)\n",
        "\n",
        "df3 = df1.join(df2, how='left')\n",
        "print(df3)"
      ],
      "execution_count": null,
      "outputs": [
        {
          "output_type": "stream",
          "text": [
            "     A    B\n",
            "a  100  NaN\n",
            "b  200  150\n",
            "c  300  NaN\n",
            "d  400   50\n",
            "     A    B\n",
            "a  100  NaN\n",
            "b  200  150\n",
            "c  300  NaN\n",
            "d  400   50\n"
          ],
          "name": "stdout"
        }
      ]
    },
    {
      "cell_type": "markdown",
      "metadata": {
        "id": "7AcId7XxLYoV",
        "colab_type": "text"
      },
      "source": [
        "默认为 left join"
      ]
    },
    {
      "cell_type": "code",
      "metadata": {
        "id": "GhCIZsyL5t7D",
        "colab_type": "code",
        "colab": {
          "base_uri": "https://localhost:8080/",
          "height": 160
        },
        "outputId": "7438b5c7-57ee-4e0b-9781-98701f733db4"
      },
      "source": [
        "df3 = df2.join(df1)\n",
        "print(df3)\n",
        "\n",
        "df3 = df1.join(df2, how='right')\n",
        "print(df3)"
      ],
      "execution_count": null,
      "outputs": [
        {
          "output_type": "stream",
          "text": [
            "     B    A\n",
            "f  200  NaN\n",
            "b  150  200\n",
            "d   50  400\n",
            "     A    B\n",
            "f  NaN  200\n",
            "b  200  150\n",
            "d  400   50\n"
          ],
          "name": "stdout"
        }
      ]
    },
    {
      "cell_type": "code",
      "metadata": {
        "id": "G8nglqBE6Yuz",
        "colab_type": "code",
        "colab": {
          "base_uri": "https://localhost:8080/",
          "height": 178
        },
        "outputId": "d98b753a-c6b1-4d00-b567-10b6e245d9a1"
      },
      "source": [
        "df3 = df1.join(df2, how='inner')\n",
        "print(df3)\n",
        "\n",
        "df3 = df1.join(df2, how='outer')\n",
        "print(df3)"
      ],
      "execution_count": null,
      "outputs": [
        {
          "output_type": "stream",
          "text": [
            "     A    B\n",
            "b  200  150\n",
            "d  400   50\n",
            "     A    B\n",
            "a  100  NaN\n",
            "b  200  150\n",
            "c  300  NaN\n",
            "d  400   50\n",
            "f  NaN  200\n"
          ],
          "name": "stdout"
        }
      ]
    },
    {
      "cell_type": "markdown",
      "metadata": {
        "id": "IvC0qjv4LmUU",
        "colab_type": "text"
      },
      "source": [
        "left，right，inner，outer join 这些操作类似于SQL joins"
      ]
    },
    {
      "cell_type": "markdown",
      "metadata": {
        "id": "2l0Fkn1CM4S7",
        "colab_type": "text"
      },
      "source": [
        "## Merging"
      ]
    },
    {
      "cell_type": "code",
      "metadata": {
        "id": "-g2qN4ze6tuW",
        "colab_type": "code",
        "colab": {
          "base_uri": "https://localhost:8080/",
          "height": 178
        },
        "outputId": "8edb2d8c-7c7f-41a9-d3b4-6d41daacf488"
      },
      "source": [
        "c = pd.Series([250, 150, 50], index=['b', 'd', 'c'])\n",
        "df1['C'] = c\n",
        "print(df1)\n",
        "df2['C'] = c\n",
        "print(df2)"
      ],
      "execution_count": null,
      "outputs": [
        {
          "output_type": "stream",
          "text": [
            "     A      C\n",
            "a  100    NaN\n",
            "b  200  250.0\n",
            "c  300   50.0\n",
            "d  400  150.0\n",
            "     B      C\n",
            "f  200    NaN\n",
            "b  150  250.0\n",
            "d   50  150.0\n"
          ],
          "name": "stdout"
        }
      ]
    },
    {
      "cell_type": "code",
      "metadata": {
        "id": "9NXghnar7DDx",
        "colab_type": "code",
        "colab": {
          "base_uri": "https://localhost:8080/",
          "height": 249
        },
        "outputId": "b97a3fb7-d00b-4e0f-e5fb-06ade925f5ff"
      },
      "source": [
        "df3 = pd.merge(df1, df2)\n",
        "print(df3)\n",
        "\n",
        "df3 = pd.merge(df1, df2, on='C')\n",
        "print(df3)\n",
        "\n",
        "df3 = pd.merge(df1, df2, how='outer')\n",
        "print(df3)"
      ],
      "execution_count": null,
      "outputs": [
        {
          "output_type": "stream",
          "text": [
            "     A      C    B\n",
            "0  100    NaN  200\n",
            "1  200  250.0  150\n",
            "2  400  150.0   50\n",
            "     A      C    B\n",
            "0  100    NaN  200\n",
            "1  200  250.0  150\n",
            "2  400  150.0   50\n",
            "     A      C    B\n",
            "0  100    NaN  200\n",
            "1  200  250.0  150\n",
            "2  300   50.0  NaN\n",
            "3  400  150.0   50\n"
          ],
          "name": "stdout"
        }
      ]
    },
    {
      "cell_type": "markdown",
      "metadata": {
        "id": "d6GwuBYEL1FJ",
        "colab_type": "text"
      },
      "source": [
        "默认为 inner merge，自动寻找相同的列进行merge"
      ]
    },
    {
      "cell_type": "code",
      "metadata": {
        "id": "eVlkKQ8z7iTq",
        "colab_type": "code",
        "colab": {
          "base_uri": "https://localhost:8080/",
          "height": 178
        },
        "outputId": "8c7f9b1d-8671-48f7-b433-0b0c7f8b5efb"
      },
      "source": [
        "df3 = pd.merge(df1, df2, left_on='A', right_on='B')\n",
        "print(df3)\n",
        "\n",
        "df3 = pd.merge(df1, df2, left_on='A', right_on='B', how='outer')\n",
        "print(df3)"
      ],
      "execution_count": null,
      "outputs": [
        {
          "output_type": "stream",
          "text": [
            "     A    C_x    B  C_y\n",
            "0  200  250.0  200  NaN\n",
            "     A    C_x    B    C_y\n",
            "0  100    NaN  NaN    NaN\n",
            "1  200  250.0  200    NaN\n",
            "2  300   50.0  NaN    NaN\n",
            "3  400  150.0  NaN    NaN\n",
            "4  NaN    NaN  150  250.0\n",
            "5  NaN    NaN   50  150.0\n"
          ],
          "name": "stdout"
        }
      ]
    },
    {
      "cell_type": "markdown",
      "metadata": {
        "id": "j-IR8dOiMOBS",
        "colab_type": "text"
      },
      "source": [
        "merge 另一个参数是把index 也考虑进去"
      ]
    },
    {
      "cell_type": "code",
      "metadata": {
        "id": "BCWwIVIr8OC9",
        "colab_type": "code",
        "colab": {
          "base_uri": "https://localhost:8080/",
          "height": 267
        },
        "outputId": "2e131c40-223a-4a1d-de50-99db43703894"
      },
      "source": [
        "df3 = pd.merge(df1, df2, left_index=True, right_index=True)\n",
        "print(df3)\n",
        "\n",
        "df3 = pd.merge(df1, df2, on='C', left_index=True)\n",
        "print(df3)\n",
        "\n",
        "df3 = pd.merge(df1, df2, on='C', right_index=True)\n",
        "print(df3)\n",
        "\n",
        "df3 = pd.merge(df1, df2, on='C', left_index=True, right_index=True)\n",
        "print(df3)"
      ],
      "execution_count": null,
      "outputs": [
        {
          "output_type": "stream",
          "text": [
            "     A    C_x    B    C_y\n",
            "b  200  250.0  150  250.0\n",
            "d  400  150.0   50  150.0\n",
            "     A      C    B\n",
            "f  100    NaN  200\n",
            "b  200  250.0  150\n",
            "d  400  150.0   50\n",
            "     A      C    B\n",
            "a  100    NaN  200\n",
            "b  200  250.0  150\n",
            "d  400  150.0   50\n",
            "     A      C    B\n",
            "b  200  250.0  150\n",
            "d  400  150.0   50\n"
          ],
          "name": "stdout"
        }
      ]
    }
  ]
}