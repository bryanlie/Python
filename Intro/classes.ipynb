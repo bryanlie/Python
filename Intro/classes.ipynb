{
  "nbformat": 4,
  "nbformat_minor": 0,
  "metadata": {
    "colab": {
      "name": "classes.ipynb",
      "provenance": [],
      "collapsed_sections": []
    },
    "kernelspec": {
      "name": "python3",
      "display_name": "Python 3"
    }
  },
  "cells": [
    {
      "cell_type": "markdown",
      "metadata": {
        "id": "nBXtg5iU28G4",
        "colab_type": "text"
      },
      "source": [
        "# Classes 类\n",
        "\n",
        "Object Oriented Programming (OOP) 面向对象编程是一种程序设计思想, OOP把对象作为程序的基本单元。\n",
        "\n",
        "Python是面向对象语言，所有数据类型都是对象, 根据对象自定义的抽象数据类型就是类（Class）\n",
        "\n",
        "一个对象或类包含了数据和操作数据的函数，分别被称为属性 （Attribute）和方法（Method）\n",
        "\n",
        "面向对象第一要素是封装，封装就是事物抽象为类，把对外接口暴露，将实现和内部数据隐藏。"
      ]
    },
    {
      "cell_type": "code",
      "metadata": {
        "id": "nN-PEMvmtD8X",
        "colab_type": "code",
        "colab": {}
      },
      "source": [
        "class Person(object):\n",
        "  pass"
      ],
      "execution_count": 0,
      "outputs": []
    },
    {
      "cell_type": "markdown",
      "metadata": {
        "id": "SsK4xQEItI6D",
        "colab_type": "text"
      },
      "source": [
        "首先定义一个空的Person 类\n",
        "\n",
        "class 关键字定义类，后面是类名，如Person，类名通常是大写字母开头\n",
        "\n",
        "类名后面()及里面的class object 表示该类是从哪个父类继承下来的， object 是所有类的终极父类。"
      ]
    },
    {
      "cell_type": "code",
      "metadata": {
        "id": "AXYBjd532d4T",
        "colab_type": "code",
        "colab": {}
      },
      "source": [
        "class Person(object):\n",
        "  def __init__(self, name):\n",
        "    self.name = name\n",
        "\n",
        "  def print_name(self):\n",
        "    print(\"His/Her name is \" + self.name)\n"
      ],
      "execution_count": 0,
      "outputs": []
    },
    {
      "cell_type": "markdown",
      "metadata": {
        "id": "TX8Y01fl_bFv",
        "colab_type": "text"
      },
      "source": [
        "Person 对象拥有name 属性，还有一个方法print_name()\n",
        "\n",
        "首先定义一个特殊的 $__init__$ 方法，在创建实例的时候，把name 属性初始化赋值\n",
        "\n",
        "self 是个特殊关键字，表示实例本身\n",
        "\n",
        "然后定义方法print_name() 用来打印名字，引用name 属性可用 self.name\n"
      ]
    },
    {
      "cell_type": "code",
      "metadata": {
        "id": "8LJZCiN6vQz6",
        "colab_type": "code",
        "outputId": "c29575e9-ba6c-4fc8-a67d-0a6a7269e5b8",
        "colab": {
          "base_uri": "https://localhost:8080/",
          "height": 35
        }
      },
      "source": [
        "dan = Person(\"Daniel Wang\")\n",
        "dan.print_name()"
      ],
      "execution_count": 3,
      "outputs": [
        {
          "output_type": "stream",
          "text": [
            "His/Her name is Daniel Wang\n"
          ],
          "name": "stdout"
        }
      ]
    },
    {
      "cell_type": "markdown",
      "metadata": {
        "id": "Cl3HwfEKvTvQ",
        "colab_type": "text"
      },
      "source": [
        "Person 是一个抽象类, 实例（Instance）则是一个个具体的Person 对象。\n",
        "\n",
        "实例化直接用类名加括号Person(), 给实例dan 一个名字 \"Daniel Wang\"  \n",
        "\n",
        "用\".\" 来调用实例的方法"
      ]
    },
    {
      "cell_type": "code",
      "metadata": {
        "id": "aBhPrfBWzvyT",
        "colab_type": "code",
        "outputId": "fdf265e4-6ac0-492c-a3f2-39746fe90e69",
        "colab": {
          "base_uri": "https://localhost:8080/",
          "height": 196
        }
      },
      "source": [
        "class Fibonacci:\n",
        "    def get_fn(self, n):\n",
        "        if n == 0:\n",
        "            return 0\n",
        "        elif n == 1:\n",
        "            return 1\n",
        "        else:\n",
        "            return self.get_fn(n-1) + self.get_fn(n-2)\n",
        "\n",
        "fib0 = Fibonacci()\n",
        "\n",
        "for i in range(1, 11):\n",
        "    print(fib0.get_fn(i))"
      ],
      "execution_count": 4,
      "outputs": [
        {
          "output_type": "stream",
          "text": [
            "1\n",
            "1\n",
            "2\n",
            "3\n",
            "5\n",
            "8\n",
            "13\n",
            "21\n",
            "34\n",
            "55\n"
          ],
          "name": "stdout"
        }
      ]
    },
    {
      "cell_type": "markdown",
      "metadata": {
        "id": "-bgZMBK90iKK",
        "colab_type": "text"
      },
      "source": [
        "继承自object 不是每次都需要加，因为默认大家都知道，所以可省略\n",
        "\n",
        "$__init__$ 也不是必须的，如果没有什么要初始化的属性，可省略\n",
        "\n",
        "定义方法和一般函数没有区别，上例中用递归实现get_fn()"
      ]
    },
    {
      "cell_type": "code",
      "metadata": {
        "id": "Kt079UL726xF",
        "colab_type": "code",
        "outputId": "8164ea08-0151-45a6-a109-f28a123aadae",
        "colab": {
          "base_uri": "https://localhost:8080/",
          "height": 196
        }
      },
      "source": [
        "class Fib:                                        \n",
        "  def __init__(self, n):                      \n",
        "    self.n = n\n",
        "    self.a = 0\n",
        "    self.b = 1\n",
        "    self.i = 0\n",
        "\n",
        "  def __iter__(self):                               \n",
        "    return self\n",
        "\n",
        "  def __next__(self): \n",
        "    fn = self.b                          \n",
        "    self.a, self.b = self.b, self.a + self.b\n",
        "    self.i += 1\n",
        "    if self.i > self.n:\n",
        "      raise StopIteration \n",
        "    return fn   \n",
        "\n",
        "fib1 = Fib(10)\n",
        "\n",
        "for fn in fib1:\n",
        "    print(fn)"
      ],
      "execution_count": 5,
      "outputs": [
        {
          "output_type": "stream",
          "text": [
            "1\n",
            "1\n",
            "2\n",
            "3\n",
            "5\n",
            "8\n",
            "13\n",
            "21\n",
            "34\n",
            "55\n"
          ],
          "name": "stdout"
        }
      ]
    },
    {
      "cell_type": "markdown",
      "metadata": {
        "id": "QFMw3mwr7qDs",
        "colab_type": "text"
      },
      "source": [
        "\n",
        "迭代器对象必须同时实现两个方法$__iter __$和$__next __$，这被称为迭代器协议。\n",
        "\n",
        "一般属性或方法都默认为公有的 public\n",
        "\n",
        "所有带下划线的属性或方法则认为是私有的 private\n",
        "\n",
        "私有的意思是外部实例不应该访问该属性或方法，只能在类内部访问"
      ]
    }
  ]
}