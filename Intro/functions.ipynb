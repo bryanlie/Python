{
  "nbformat": 4,
  "nbformat_minor": 0,
  "metadata": {
    "colab": {
      "name": "functions.ipynb",
      "provenance": [],
      "collapsed_sections": []
    },
    "kernelspec": {
      "name": "python3",
      "display_name": "Python 3"
    }
  },
  "cells": [
    {
      "cell_type": "markdown",
      "metadata": {
        "id": "gJDDdOanU-wv",
        "colab_type": "text"
      },
      "source": [
        "# Functions 函数\n",
        "\n",
        "## 调用函数"
      ]
    },
    {
      "cell_type": "code",
      "metadata": {
        "id": "DpVqgTgiU7xT",
        "colab_type": "code",
        "outputId": "7c9c1dea-59de-4591-ed8c-c230985af082",
        "colab": {
          "base_uri": "https://localhost:8080/",
          "height": 71
        }
      },
      "source": [
        "print(type('functions'))\n",
        "print(abs(-20))\n",
        "int(12.3)"
      ],
      "execution_count": 0,
      "outputs": [
        {
          "output_type": "stream",
          "text": [
            "<class 'str'>\n",
            "20\n"
          ],
          "name": "stdout"
        },
        {
          "output_type": "execute_result",
          "data": {
            "text/plain": [
              "12"
            ]
          },
          "metadata": {
            "tags": []
          },
          "execution_count": 9
        }
      ]
    },
    {
      "cell_type": "markdown",
      "metadata": {
        "id": "_W3KnQ-KVw_H",
        "colab_type": "text"
      },
      "source": [
        "Python 内置了很多有用的函数，比如print()，type()\n",
        "\n",
        "abs() 用来算绝对值，类似的还有max()\n",
        "\n",
        "类型转换，类似的还有float(), str()，bool()"
      ]
    },
    {
      "cell_type": "markdown",
      "metadata": {
        "id": "1j4gzYNdWi6f",
        "colab_type": "text"
      },
      "source": [
        "### 数学函数\n",
        "\n",
        "模块(module) 指一个函数库，它包括多个功能相关的函数\n",
        "\n",
        "Python 内置了一个 math 模块，用于简单数学计算"
      ]
    },
    {
      "cell_type": "code",
      "metadata": {
        "id": "MjB87YEuXfQv",
        "colab_type": "code",
        "outputId": "1a64d242-65c9-497d-cde2-f26dafe7d725",
        "colab": {
          "base_uri": "https://localhost:8080/",
          "height": 35
        }
      },
      "source": [
        "import math\n",
        "\n",
        "math.sqrt(9)"
      ],
      "execution_count": 0,
      "outputs": [
        {
          "output_type": "execute_result",
          "data": {
            "text/plain": [
              "3.0"
            ]
          },
          "metadata": {
            "tags": []
          },
          "execution_count": 10
        }
      ]
    },
    {
      "cell_type": "markdown",
      "metadata": {
        "id": "CvYMljNgXp1Q",
        "colab_type": "text"
      },
      "source": [
        "首先要导入 math 模块，用 import 关键字\n",
        "\n",
        "开平方可以调用math 模块的 sqrt()，注意返回值为小数\n",
        "\n",
        "其他常用数学函数还有取对数 log()，三角函数 sin() 等"
      ]
    },
    {
      "cell_type": "code",
      "metadata": {
        "id": "JVqbiaDmbNCc",
        "colab_type": "code",
        "outputId": "05384e8d-54fa-4d0e-f6fd-8a50aadbacd0",
        "colab": {
          "base_uri": "https://localhost:8080/",
          "height": 35
        }
      },
      "source": [
        "math.e"
      ],
      "execution_count": 0,
      "outputs": [
        {
          "output_type": "execute_result",
          "data": {
            "text/plain": [
              "2.718281828459045"
            ]
          },
          "metadata": {
            "tags": []
          },
          "execution_count": 11
        }
      ]
    },
    {
      "cell_type": "markdown",
      "metadata": {
        "id": "pLxTPdnobQAC",
        "colab_type": "text"
      },
      "source": [
        "math 模块也包括一些常用的常数如欧拉/自然常数 e，圆周率 $\\pi$ 等"
      ]
    },
    {
      "cell_type": "markdown",
      "metadata": {
        "id": "jWxgmt7fcTaB",
        "colab_type": "text"
      },
      "source": [
        "## 定义函数"
      ]
    },
    {
      "cell_type": "code",
      "metadata": {
        "id": "5iKb8k_bcYCU",
        "colab_type": "code",
        "outputId": "942af408-b350-4ef6-90ff-cbafce0c4584",
        "colab": {
          "base_uri": "https://localhost:8080/",
          "height": 35
        }
      },
      "source": [
        "def empty_func():\n",
        "  pass\n",
        "\n",
        "print(type(empty_func))\n",
        "empty_func()"
      ],
      "execution_count": 0,
      "outputs": [
        {
          "output_type": "stream",
          "text": [
            "<class 'function'>\n"
          ],
          "name": "stdout"
        }
      ]
    },
    {
      "cell_type": "markdown",
      "metadata": {
        "id": "PLzJxYeYcdQN",
        "colab_type": "text"
      },
      "source": [
        "定义一个函数要使用def 语句, 然后是函数名、括号、括号中的参数和冒号:\n",
        "\n",
        "在缩进块中编写函数体，这里用pass 表示什么也没做\n",
        "\n",
        "缩进在Python 里很重要，决定了变量/函数体的视野 scope，这里用两个空格缩进 "
      ]
    },
    {
      "cell_type": "code",
      "metadata": {
        "id": "Ey98C8cujgWQ",
        "colab_type": "code",
        "outputId": "07dd51e8-5319-430a-9629-c59fdb7b660d",
        "colab": {
          "base_uri": "https://localhost:8080/",
          "height": 53
        }
      },
      "source": [
        "import math\n",
        "\n",
        "#find area of the circle with radius r > 0\n",
        "def area(r=1):\n",
        "  a = 0.0\n",
        "  if r > 0:\n",
        "    a = math.pi * r**2\n",
        "  else:\n",
        "    a = None\n",
        "\n",
        "  return a \n",
        "print(area())\n",
        "print(area(-2.5))\n"
      ],
      "execution_count": 0,
      "outputs": [
        {
          "output_type": "stream",
          "text": [
            "3.141592653589793\n",
            "None\n"
          ],
          "name": "stdout"
        }
      ]
    },
    {
      "cell_type": "markdown",
      "metadata": {
        "id": "WUo-ry2NkMN9",
        "colab_type": "text"
      },
      "source": [
        "求圆形面积，我们定义一个area() 函数，参数是半径 r，返回值是面积\n",
        "\n",
        "这里我们加了一个约束条件，半径 r 必须是正数，否则面积是空值\n",
        "\n",
        "定义函数时，需要确定函数名和参数个数，参数可以有默认值，此处单位元r = 1\n",
        "\n",
        "调用函数时，如果参数个数不对，Python解释器会自动检查出来，并报错：TypeError"
      ]
    },
    {
      "cell_type": "code",
      "metadata": {
        "id": "0lOw8R71eD-l",
        "colab_type": "code",
        "outputId": "a3c86d4e-87bb-4eaf-cd72-fa7267e700b8",
        "colab": {
          "base_uri": "https://localhost:8080/",
          "height": 35
        }
      },
      "source": [
        "def age_group(age):\n",
        "  if not isinstance(age, (int, float)):\n",
        "        raise TypeError('Human age should be a number')\n",
        "  else:\n",
        "    if 0 < age < 13:\n",
        "      return 'Child'\n",
        "    elif 13 <= age < 19:\n",
        "      return 'Adolescence'\n",
        "    elif 19 <= age < 60:\n",
        "      return 'Adult'\n",
        "    elif age >= 60:\n",
        "      return 'Senior Adult'\n",
        "    else:\n",
        "      raise TypeError('Human age should be positive')\n",
        "\n",
        "age_group(5)\n",
        "    "
      ],
      "execution_count": 0,
      "outputs": [
        {
          "output_type": "execute_result",
          "data": {
            "text/plain": [
              "'Child'"
            ]
          },
          "metadata": {
            "tags": []
          },
          "execution_count": 14
        }
      ]
    },
    {
      "cell_type": "markdown",
      "metadata": {
        "id": "s-DMZ0Saf-mU",
        "colab_type": "text"
      },
      "source": [
        "根据年龄算出所属的年龄组\n",
        "\n",
        "isinstance() 判断参数age 是否是整数或者小数\n",
        "\n",
        "raise 抛出一个错误：TyperError，并输出提示\n",
        "\n",
        "条件判断语句：if ... elif ... else"
      ]
    },
    {
      "cell_type": "markdown",
      "metadata": {
        "id": "cit8F0AJjFJR",
        "colab_type": "text"
      },
      "source": [
        "## 递归函数 Recursive function\n",
        "\n",
        "递归指在函数的定义中使用函数自身的方法。"
      ]
    },
    {
      "cell_type": "code",
      "metadata": {
        "id": "sRnyGwKFhIxc",
        "colab_type": "code",
        "outputId": "98cf5c04-d8e4-4520-8aaa-4fdb8dfefc68",
        "colab": {
          "base_uri": "https://localhost:8080/",
          "height": 35
        }
      },
      "source": [
        "def factorial(n):\n",
        "  f = 1\n",
        "  while n > 0:\n",
        "    f *= n\n",
        "    n -= 1\n",
        "  \n",
        "  return f \n",
        "\n",
        "factorial(4)"
      ],
      "execution_count": 0,
      "outputs": [
        {
          "output_type": "execute_result",
          "data": {
            "text/plain": [
              "24"
            ]
          },
          "metadata": {
            "tags": []
          },
          "execution_count": 15
        }
      ]
    },
    {
      "cell_type": "markdown",
      "metadata": {
        "id": "CFBNsue4iKiP",
        "colab_type": "text"
      },
      "source": [
        "求阶乘 $n! = 1 * 2 * 3 \\cdots n$ \n",
        "\n",
        "while loop 循环计算乘积\n",
        "\n",
        "注意，Python 没有do...while 语句"
      ]
    },
    {
      "cell_type": "code",
      "metadata": {
        "id": "Eca6a4i1ir6C",
        "colab_type": "code",
        "outputId": "11127f92-6661-4122-aecb-a491d5f9f42b",
        "colab": {
          "base_uri": "https://localhost:8080/",
          "height": 35
        }
      },
      "source": [
        "def recur_factorial(n):  \n",
        "   if n == 1:  \n",
        "       return n  \n",
        "   else:  \n",
        "       return n * recur_factorial(n-1) \n",
        "      \n",
        "recur_factorial(4)"
      ],
      "execution_count": 0,
      "outputs": [
        {
          "output_type": "execute_result",
          "data": {
            "text/plain": [
              "24"
            ]
          },
          "metadata": {
            "tags": []
          },
          "execution_count": 16
        }
      ]
    },
    {
      "cell_type": "markdown",
      "metadata": {
        "id": "gfoHXwKSkA8j",
        "colab_type": "text"
      },
      "source": [
        "递归实现阶乘\n",
        "\n",
        "主要是n 递减并且调用函数本身"
      ]
    }
  ]
}