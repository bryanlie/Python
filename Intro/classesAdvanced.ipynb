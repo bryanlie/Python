{
  "nbformat": 4,
  "nbformat_minor": 0,
  "metadata": {
    "colab": {
      "name": "classesAdvanced.ipynb",
      "provenance": [],
      "collapsed_sections": []
    },
    "kernelspec": {
      "name": "python3",
      "display_name": "Python 3"
    }
  },
  "cells": [
    {
      "cell_type": "markdown",
      "metadata": {
        "id": "NuN2bMncK_mM",
        "colab_type": "text"
      },
      "source": [
        "# Classes Advanced Topics 类高级话题\n",
        "\n",
        "面向对象三要素：封装，继承，多态\n",
        "\n",
        "Inheritence 继承\n",
        "\n",
        "Polymorphism 多态\n",
        "\n",
        "Class Attributes 类属性\n",
        "\n",
        "Static Methods 静态方法 \n",
        "\n",
        "Class Methods 类方法"
      ]
    },
    {
      "cell_type": "markdown",
      "metadata": {
        "id": "vo8RGzCJnLax",
        "colab_type": "text"
      },
      "source": [
        "## Inheritence 继承\n",
        "\n",
        "\n",
        "\n",
        "当定义一个class的时候，可以从某个现有的class继承，新的class称为子类（Subclass），而被继承的class称为父类, 基类或超类（Base class、Super class）。"
      ]
    },
    {
      "cell_type": "code",
      "metadata": {
        "id": "djOhRTQkK53U",
        "colab_type": "code",
        "outputId": "e5482591-4787-4426-ee02-6b59455fb8a9",
        "colab": {
          "base_uri": "https://localhost:8080/",
          "height": 35
        }
      },
      "source": [
        "class Person:\n",
        "  def __init__(self, name):\n",
        "    self.name = name\n",
        "\n",
        "  def print_name(self):\n",
        "    print(self.name)\n",
        "\n",
        "class Student(Person):\n",
        "  pass\n",
        "\n",
        "josh = Student(\"Joshua\")\n",
        "josh.print_name()"
      ],
      "execution_count": 2,
      "outputs": [
        {
          "output_type": "stream",
          "text": [
            "Joshua\n"
          ],
          "name": "stdout"
        }
      ]
    },
    {
      "cell_type": "markdown",
      "metadata": {
        "id": "GBC1IhSjraIS",
        "colab_type": "text"
      },
      "source": [
        "继承是一个对象获得另一个对象的属性和方法的过程。\n",
        "\n",
        "(Person) 表示子类Student 继承父类 Person"
      ]
    },
    {
      "cell_type": "code",
      "metadata": {
        "id": "JhT00XYNsT2Y",
        "colab_type": "code",
        "outputId": "6507b18f-1fb7-47f0-f78a-066305e2cd40",
        "colab": {
          "base_uri": "https://localhost:8080/",
          "height": 53
        }
      },
      "source": [
        "class Student(Person):\n",
        "  def isStudent(self):\n",
        "    return True\n",
        "\n",
        "  def print_name(self):\n",
        "    print(\"Student name is \" + self.name)\n",
        "\n",
        "josh = Student(\"Joshua\")\n",
        "josh.print_name()\n",
        "josh.isStudent()"
      ],
      "execution_count": 3,
      "outputs": [
        {
          "output_type": "stream",
          "text": [
            "Student name is Joshua\n"
          ],
          "name": "stdout"
        },
        {
          "output_type": "execute_result",
          "data": {
            "text/plain": [
              "True"
            ]
          },
          "metadata": {
            "tags": []
          },
          "execution_count": 3
        }
      ]
    },
    {
      "cell_type": "markdown",
      "metadata": {
        "id": "dQEOaTUftC0Y",
        "colab_type": "text"
      },
      "source": [
        "子类可以添加自己的属性和方法，也可以覆盖重写（override）父类的方法。"
      ]
    },
    {
      "cell_type": "code",
      "metadata": {
        "id": "vcNZSNWjt7HA",
        "colab_type": "code",
        "outputId": "874c4c3d-7429-48d5-8446-110537e88a16",
        "colab": {
          "base_uri": "https://localhost:8080/",
          "height": 53
        }
      },
      "source": [
        "class Student(Person):\n",
        "  def __init__(self, name, student_id):\n",
        "    super().__init__(name)\n",
        "    self.student_id = student_id\n",
        "    self.isStudent = True\n",
        "\n",
        "  def print_name(self):\n",
        "    print(\"Student name is \" + self.name)\n",
        "  \n",
        "  def print_id(self):\n",
        "    print(\"Student ID is \" + self.student_id)\n",
        "\n",
        "josh = Student(\"Joshua\", '9901')\n",
        "josh.print_id()\n",
        "josh.isStudent"
      ],
      "execution_count": 4,
      "outputs": [
        {
          "output_type": "stream",
          "text": [
            "Student ID is 9901\n"
          ],
          "name": "stdout"
        },
        {
          "output_type": "execute_result",
          "data": {
            "text/plain": [
              "True"
            ]
          },
          "metadata": {
            "tags": []
          },
          "execution_count": 4
        }
      ]
    },
    {
      "cell_type": "markdown",
      "metadata": {
        "id": "z9lEgH7cv7um",
        "colab_type": "text"
      },
      "source": [
        "super() 是指父类，先引用父类的$__init__$ 对name 赋值，然后添加新属性"
      ]
    },
    {
      "cell_type": "markdown",
      "metadata": {
        "id": "QprTqk0K29oM",
        "colab_type": "text"
      },
      "source": [
        "## polymorphism 多态 \n",
        "\n",
        "多态性指相同函数名可用于不同类型调用。"
      ]
    },
    {
      "cell_type": "code",
      "metadata": {
        "id": "_-lwyGyy5yBO",
        "colab_type": "code",
        "outputId": "e2584f58-f85e-4a9f-e5b0-9bfe799fa325",
        "colab": {
          "base_uri": "https://localhost:8080/",
          "height": 71
        }
      },
      "source": [
        "print(len(\"amour\"))\n",
        "print(len([\"Python\", \"Java\", \"C++\"]))\n",
        "print(len({\"name\": \"John\", \"Age\": 5}))"
      ],
      "execution_count": 5,
      "outputs": [
        {
          "output_type": "stream",
          "text": [
            "5\n",
            "3\n",
            "2\n"
          ],
          "name": "stdout"
        }
      ]
    },
    {
      "cell_type": "markdown",
      "metadata": {
        "id": "LIh6fCBA6LRw",
        "colab_type": "text"
      },
      "source": [
        "同样是len() 函数，对不同类型的参数进行求值"
      ]
    },
    {
      "cell_type": "code",
      "metadata": {
        "id": "caL0-pv_3zeP",
        "colab_type": "code",
        "outputId": "8e8f9d65-dd5d-4260-acda-ccdbf625ccf5",
        "colab": {
          "base_uri": "https://localhost:8080/",
          "height": 53
        }
      },
      "source": [
        "class Teacher(Person):\n",
        "  def __init__(self, name):\n",
        "    super().__init__(name)\n",
        "    self.isTeacher = True \n",
        "\n",
        "  def print_name(self):\n",
        "    print(\"Teacher name is \" + self.name)\n",
        "\n",
        "dan = Teacher(\"Daniel\")\n",
        "\n",
        "def get_name(person):\n",
        "  person.print_name()\n",
        "\n",
        "get_name(josh)\n",
        "get_name(dan)\n",
        "\n"
      ],
      "execution_count": 6,
      "outputs": [
        {
          "output_type": "stream",
          "text": [
            "Student name is Joshua\n",
            "Teacher name is Daniel\n"
          ],
          "name": "stdout"
        }
      ]
    },
    {
      "cell_type": "markdown",
      "metadata": {
        "id": "7KcyA1Xf4cpc",
        "colab_type": "text"
      },
      "source": [
        "定义另一个Person 的子类Teacher，给print_name() 一个不同的实现\n",
        "\n",
        "定义一个函数get_name(), 其参数是一个person 实例\n",
        "\n",
        "对Student 和Teacher 的实例分别调用，多态自动找到相应的具体实现"
      ]
    },
    {
      "cell_type": "markdown",
      "metadata": {
        "id": "ukiWQjM-8HAv",
        "colab_type": "text"
      },
      "source": [
        "## Class Attributes 类属性\n",
        "\n",
        "Class vs Instance Attributes 类属性不同于实例属性\n",
        "\n",
        "类属性是归属于类的属性，和实例无关"
      ]
    },
    {
      "cell_type": "code",
      "metadata": {
        "id": "4jMSUNgb8c2R",
        "colab_type": "code",
        "outputId": "9ec78e52-75c4-4ff8-d648-cd4c9a234ce2",
        "colab": {
          "base_uri": "https://localhost:8080/",
          "height": 124
        }
      },
      "source": [
        "class Student(Person):\n",
        "  name = 'Student'\n",
        "\n",
        "  def __init__(self, name, student_id):\n",
        "    super().__init__(name)\n",
        "    self.student_id = student_id\n",
        "    self.isStudent = True\n",
        "\n",
        "  def print_name(self):\n",
        "    print(\"Student name is \" + self.name)\n",
        "  \n",
        "  def print_id(self):\n",
        "    print(\"Student ID is \" + self.student_id)\n",
        "\n",
        "print(Student.name)\n",
        "\n",
        "josh = Student(\"Joshua\", '9901')\n",
        "josh.print_name()\n",
        "print(josh.name)\n",
        "\n",
        "ed =Student(\"Edward\", '9903')\n",
        "ed.print_name()\n",
        "print(ed.name)\n",
        "\n",
        "del ed.name\n",
        "print(ed.name)"
      ],
      "execution_count": 7,
      "outputs": [
        {
          "output_type": "stream",
          "text": [
            "Student\n",
            "Student name is Joshua\n",
            "Joshua\n",
            "Student name is Edward\n",
            "Edward\n",
            "Student\n"
          ],
          "name": "stdout"
        }
      ]
    },
    {
      "cell_type": "markdown",
      "metadata": {
        "id": "NbKUXmmM9wk7",
        "colab_type": "text"
      },
      "source": [
        "常用类属性来定义常数或全局变量，一般为不可变 Immutable\n",
        "\n",
        "尽量避免类属性和实例属性用同样的名字\n",
        "\n",
        "上例中不小心删除了Ed 的名字，那么Python会用类名字冒充。。。"
      ]
    },
    {
      "cell_type": "markdown",
      "metadata": {
        "id": "1rcb8isKCJmH",
        "colab_type": "text"
      },
      "source": [
        "## Static Methods 静态方法 \n",
        "\n",
        "静态方法定义时用 @staticmethod 装饰器 Decorator 表示 "
      ]
    },
    {
      "cell_type": "code",
      "metadata": {
        "id": "pKL8S6AzCTpc",
        "colab_type": "code",
        "outputId": "4c41b73b-0f79-432e-9c27-5bff14783103",
        "colab": {
          "base_uri": "https://localhost:8080/",
          "height": 106
        }
      },
      "source": [
        "class Person:\n",
        "    __counter = 0\n",
        "    \n",
        "    def __init__(self):\n",
        "        type(self).__counter += 1\n",
        "        \n",
        "    @staticmethod    \n",
        "    def personInstances():\n",
        "        return Person.__counter\n",
        "\n",
        "print(Person.personInstances())\n",
        "\n",
        "p1 = Person()\n",
        "print(p1.personInstances())\n",
        "\n",
        "p2 = Person()\n",
        "print(p2.personInstances())\n",
        "\n",
        "print(p1.personInstances())\n",
        "print(Person.personInstances())"
      ],
      "execution_count": 8,
      "outputs": [
        {
          "output_type": "stream",
          "text": [
            "0\n",
            "1\n",
            "2\n",
            "2\n",
            "2\n"
          ],
          "name": "stdout"
        }
      ]
    },
    {
      "cell_type": "markdown",
      "metadata": {
        "id": "CA3HKk2SDccP",
        "colab_type": "text"
      },
      "source": [
        "如果定义一个可变私有的类属性，可用静态方法来读取它\n",
        "\n",
        "注意静态方法没有 self 参数"
      ]
    },
    {
      "cell_type": "markdown",
      "metadata": {
        "id": "2-XW4MguEryq",
        "colab_type": "text"
      },
      "source": [
        "## Class Methods 类方法\n",
        "\n",
        "类方法不同于静态方法，类方法的第一个参数必须是类对象\n",
        "\n",
        "类方法定义时用 @classmethod 装饰器 Decorator 表示 "
      ]
    },
    {
      "cell_type": "code",
      "metadata": {
        "id": "Q9WzlVD3E7M-",
        "colab_type": "code",
        "outputId": "920e1f75-f37d-4e1b-de74-629904f21e26",
        "colab": {
          "base_uri": "https://localhost:8080/",
          "height": 106
        }
      },
      "source": [
        "class Person:\n",
        "    __counter = 0\n",
        "    \n",
        "    def __init__(self):\n",
        "        type(self).__counter += 1\n",
        "        \n",
        "    @classmethod    \n",
        "    def personInstances(cls):\n",
        "        return cls, Person.__counter\n",
        "\n",
        "print(Person.personInstances())\n",
        "\n",
        "p1 = Person()\n",
        "print(p1.personInstances())\n",
        "\n",
        "p2 = Person()\n",
        "print(p2.personInstances())\n",
        "\n",
        "print(p1.personInstances())\n",
        "print(Person.personInstances())"
      ],
      "execution_count": 9,
      "outputs": [
        {
          "output_type": "stream",
          "text": [
            "(<class '__main__.Person'>, 0)\n",
            "(<class '__main__.Person'>, 1)\n",
            "(<class '__main__.Person'>, 2)\n",
            "(<class '__main__.Person'>, 2)\n",
            "(<class '__main__.Person'>, 2)\n"
          ],
          "name": "stdout"
        }
      ]
    }
  ]
}