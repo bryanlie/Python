{
  "nbformat": 4,
  "nbformat_minor": 0,
  "metadata": {
    "colab": {
      "name": "list.ipynb",
      "provenance": [],
      "collapsed_sections": []
    },
    "kernelspec": {
      "name": "python3",
      "display_name": "Python 3"
    }
  },
  "cells": [
    {
      "cell_type": "markdown",
      "metadata": {
        "id": "9zQD8dTx9R9Z",
        "colab_type": "text"
      },
      "source": [
        "# List\n",
        "\n",
        "Python中常用的一种数据结构是列表：list"
      ]
    },
    {
      "cell_type": "code",
      "metadata": {
        "id": "sJnpWF789J1H",
        "colab_type": "code",
        "outputId": "e6267c76-873d-4027-8a1e-727f810a7a18",
        "colab": {
          "base_uri": "https://localhost:8080/",
          "height": 35
        }
      },
      "source": [
        "assets = ['Cash', 'Stocks', 'Bonds', 'Real estate']\n",
        "alist = ['spam', 42.0, 51, [10, 20], False]\n",
        "empty = []\n",
        "print(assets, alist, empty)"
      ],
      "execution_count": 0,
      "outputs": [
        {
          "output_type": "stream",
          "text": [
            "['Cash', 'Stocks', 'Bonds', 'Real estate'] ['spam', 42.0, 51, [10, 20], False] []\n"
          ],
          "name": "stdout"
        }
      ]
    },
    {
      "cell_type": "markdown",
      "metadata": {
        "id": "S26MWDpsBqE5",
        "colab_type": "text"
      },
      "source": [
        "list是一个值的序列，它有序地存储了一组数据，各个数据的类型可以不同\n"
      ]
    },
    {
      "cell_type": "code",
      "metadata": {
        "id": "ggz7crt4CZn-",
        "colab_type": "code",
        "outputId": "f8202a92-2629-4820-c86c-10a3590b17f0",
        "colab": {
          "base_uri": "https://localhost:8080/",
          "height": 88
        }
      },
      "source": [
        "print(len(alist))\n",
        "print(alist[3])\n",
        "print(alist[-1])\n",
        "print(alist[3][0])"
      ],
      "execution_count": 0,
      "outputs": [
        {
          "output_type": "stream",
          "text": [
            "5\n",
            "[10, 20]\n",
            "False\n",
            "10\n"
          ],
          "name": "stdout"
        }
      ]
    },
    {
      "cell_type": "markdown",
      "metadata": {
        "id": "3BKdEpwDwFVi",
        "colab_type": "text"
      },
      "source": [
        "list 元素个数可以利用长度函数 len()求得\n",
        "\n",
        "每个元素有自己的索引(index)，第一个元素索引是0，最后一个元素索引也可以是-1\n",
        "\n",
        "当索引超出了范围时，Python会报一个IndexError 错误"
      ]
    },
    {
      "cell_type": "code",
      "metadata": {
        "id": "nlV7hJX50f9-",
        "colab_type": "code",
        "outputId": "d0541a35-f7e7-4bf5-f366-f41a48de0844",
        "colab": {
          "base_uri": "https://localhost:8080/",
          "height": 53
        }
      },
      "source": [
        "alist[0] = 'ham'\n",
        "print(alist)\n",
        "False in alist"
      ],
      "execution_count": 0,
      "outputs": [
        {
          "output_type": "stream",
          "text": [
            "['ham', 42.0, 51, [10, 20], False]\n"
          ],
          "name": "stdout"
        },
        {
          "output_type": "execute_result",
          "data": {
            "text/plain": [
              "True"
            ]
          },
          "metadata": {
            "tags": []
          },
          "execution_count": 3
        }
      ]
    },
    {
      "cell_type": "markdown",
      "metadata": {
        "id": "EVfyY0Tn0m9U",
        "colab_type": "text"
      },
      "source": [
        "list 元素值是可变的\n",
        "\n",
        "in 可以用来判断元素是否在list 里面"
      ]
    },
    {
      "cell_type": "code",
      "metadata": {
        "id": "2NxeFPMb4rqg",
        "colab_type": "code",
        "outputId": "11bd573c-637c-405d-b889-aeb99c30cf9a",
        "colab": {
          "base_uri": "https://localhost:8080/",
          "height": 88
        }
      },
      "source": [
        "for a in assets:\n",
        "  print(a)"
      ],
      "execution_count": 0,
      "outputs": [
        {
          "output_type": "stream",
          "text": [
            "Cash\n",
            "Stocks\n",
            "Bonds\n",
            "Real estate\n"
          ],
          "name": "stdout"
        }
      ]
    },
    {
      "cell_type": "markdown",
      "metadata": {
        "id": "RBwFg3wv4yJT",
        "colab_type": "text"
      },
      "source": [
        "用for loop 和 in 可以遍历list"
      ]
    },
    {
      "cell_type": "code",
      "metadata": {
        "id": "iB8peU7m5bSe",
        "colab_type": "code",
        "outputId": "a585c808-ef01-4f27-bf64-0967709d2cba",
        "colab": {
          "base_uri": "https://localhost:8080/",
          "height": 53
        }
      },
      "source": [
        "print(assets + alist)\n",
        "print(assets * 2)"
      ],
      "execution_count": 0,
      "outputs": [
        {
          "output_type": "stream",
          "text": [
            "['Cash', 'Stocks', 'Bonds', 'Real estate', 'ham', 42.0, 51, [10, 20], False]\n",
            "['Cash', 'Stocks', 'Bonds', 'Real estate', 'Cash', 'Stocks', 'Bonds', 'Real estate']\n"
          ],
          "name": "stdout"
        }
      ]
    },
    {
      "cell_type": "markdown",
      "metadata": {
        "id": "TrgQ17xU5i0g",
        "colab_type": "text"
      },
      "source": [
        "'+' 和 '*' 运算作用在list 上"
      ]
    },
    {
      "cell_type": "code",
      "metadata": {
        "id": "dIbVEj8w6S5r",
        "colab_type": "code",
        "outputId": "6300fb48-f944-479c-b4f9-48040bdd6978",
        "colab": {
          "base_uri": "https://localhost:8080/",
          "height": 106
        }
      },
      "source": [
        "print(assets[:])\n",
        "print(assets[2:])\n",
        "print(assets[2:-1])\n",
        "print(assets[::2])\n",
        "print(assets[::-1])"
      ],
      "execution_count": 0,
      "outputs": [
        {
          "output_type": "stream",
          "text": [
            "['Cash', 'Stocks', 'Bonds', 'Real estate']\n",
            "['Bonds', 'Real estate']\n",
            "['Bonds']\n",
            "['Cash', 'Bonds']\n",
            "['Real estate', 'Bonds', 'Stocks', 'Cash']\n"
          ],
          "name": "stdout"
        }
      ]
    },
    {
      "cell_type": "markdown",
      "metadata": {
        "id": "JKuTI3Qn60U-",
        "colab_type": "text"
      },
      "source": [
        "list 剪切(slice) 可以用来取子序列\n",
        "\n",
        "assets[2:-1] 从索引 2 开始到最后，但是不包括最后一个索引-1\n",
        "\n",
        "assets[::2] 取子序列，步长为 2\n",
        "\n",
        "assets[::-1] 求逆序"
      ]
    },
    {
      "cell_type": "markdown",
      "metadata": {
        "id": "skibePcOB4AR",
        "colab_type": "text"
      },
      "source": [
        "## List 方法\n",
        "\n",
        "list 作为一个类(class)有很多内置的方法 (method)"
      ]
    },
    {
      "cell_type": "code",
      "metadata": {
        "id": "TK5Y_pbB7_UN",
        "colab_type": "code",
        "outputId": "9659162e-2624-4c06-f9ed-30a00c5cc15a",
        "colab": {
          "base_uri": "https://localhost:8080/",
          "height": 88
        }
      },
      "source": [
        "assets.append('Mutual funds')\n",
        "print(assets)\n",
        "assets.insert(1, 'Commodities')\n",
        "print(assets)\n",
        "assets.insert(-1, 'ETF')\n",
        "print(assets)\n",
        "assets.extend(['Currencies'])\n",
        "print(assets)"
      ],
      "execution_count": 0,
      "outputs": [
        {
          "output_type": "stream",
          "text": [
            "['Cash', 'Stocks', 'Bonds', 'Real estate', 'Mutual funds']\n",
            "['Cash', 'Commodities', 'Stocks', 'Bonds', 'Real estate', 'Mutual funds']\n",
            "['Cash', 'Commodities', 'Stocks', 'Bonds', 'Real estate', 'ETF', 'Mutual funds']\n",
            "['Cash', 'Commodities', 'Stocks', 'Bonds', 'Real estate', 'ETF', 'Mutual funds', 'Currencies']\n"
          ],
          "name": "stdout"
        }
      ]
    },
    {
      "cell_type": "markdown",
      "metadata": {
        "id": "sVa9Xc6Z87Fx",
        "colab_type": "text"
      },
      "source": [
        "append 在list 最后添加元素\n",
        "\n",
        "insert 在索引位置插入元素\n",
        "\n",
        "注意 insert(-1, xxx) 不能在最后添加元素\n",
        "\n",
        "extend 可以合并两个 list，和 '+' 操作一样"
      ]
    },
    {
      "cell_type": "code",
      "metadata": {
        "id": "dHLXjfUN-Fnp",
        "colab_type": "code",
        "outputId": "19b89b08-9da7-4ad3-d6e9-edf8bc880216",
        "colab": {
          "base_uri": "https://localhost:8080/",
          "height": 88
        }
      },
      "source": [
        "assets.pop()\n",
        "print(assets)\n",
        "assets.pop(1)\n",
        "print(assets)\n",
        "assets.remove('ETF')\n",
        "print(assets)\n",
        "del assets[-2:]\n",
        "print(assets)\n"
      ],
      "execution_count": 0,
      "outputs": [
        {
          "output_type": "stream",
          "text": [
            "['Cash', 'Commodities', 'Stocks', 'Bonds', 'Real estate', 'ETF', 'Mutual funds']\n",
            "['Cash', 'Stocks', 'Bonds', 'Real estate', 'ETF', 'Mutual funds']\n",
            "['Cash', 'Stocks', 'Bonds', 'Real estate', 'Mutual funds']\n",
            "['Cash', 'Stocks', 'Bonds']\n"
          ],
          "name": "stdout"
        }
      ]
    },
    {
      "cell_type": "markdown",
      "metadata": {
        "id": "sGGXFjZMBxeH",
        "colab_type": "text"
      },
      "source": [
        "pop 把最后一个元素弹出，返回值为被弹出的元素\n",
        "\n",
        "pop(i) 把索引为i 的元素弹出\n",
        "\n",
        "remove 删除某具体元素，如果你只知道元素值的话\n",
        "\n",
        "也可以用 del 删除某子序列\n",
        "\n"
      ]
    },
    {
      "cell_type": "code",
      "metadata": {
        "id": "sm7PTVBiC4JS",
        "colab_type": "code",
        "outputId": "8231ade7-ed7c-4696-f09c-ddf51288a7af",
        "colab": {
          "base_uri": "https://localhost:8080/",
          "height": 35
        }
      },
      "source": [
        "assets.sort()\n",
        "print(assets)"
      ],
      "execution_count": 0,
      "outputs": [
        {
          "output_type": "stream",
          "text": [
            "['Bonds', 'Cash', 'Stocks']\n"
          ],
          "name": "stdout"
        }
      ]
    },
    {
      "cell_type": "markdown",
      "metadata": {
        "id": "ul4F8F5ADpT4",
        "colab_type": "text"
      },
      "source": [
        "sort 用来对list 排序，但是返回值为None "
      ]
    },
    {
      "cell_type": "markdown",
      "metadata": {
        "id": "ms-c2njkHPwX",
        "colab_type": "text"
      },
      "source": [
        "## List Comprehensions\n",
        "\n",
        "列表解析"
      ]
    },
    {
      "cell_type": "code",
      "metadata": {
        "id": "Hk3ToCpNFpNi",
        "colab_type": "code",
        "outputId": "ecfa18da-4c2f-476f-8a68-d85fe39735f0",
        "colab": {
          "base_uri": "https://localhost:8080/",
          "height": 88
        }
      },
      "source": [
        "squares = [i * i for i in range(10)]\n",
        "print(squares)\n",
        "even = [n for n in squares if n % 2 == 0] \n",
        "print(even)\n",
        "labels = ['even' if n % 2 == 0 else 'odd' for n in squares]\n",
        "print(labels)\n",
        "labeled_squares = [pair for pair in zip(squares, labels)]\n",
        "print(labeled_squares)"
      ],
      "execution_count": 0,
      "outputs": [
        {
          "output_type": "stream",
          "text": [
            "[0, 1, 4, 9, 16, 25, 36, 49, 64, 81]\n",
            "[0, 4, 16, 36, 64]\n",
            "['even', 'odd', 'even', 'odd', 'even', 'odd', 'even', 'odd', 'even', 'odd']\n",
            "[(0, 'even'), (1, 'odd'), (4, 'even'), (9, 'odd'), (16, 'even'), (25, 'odd'), (36, 'even'), (49, 'odd'), (64, 'even'), (81, 'odd')]\n"
          ],
          "name": "stdout"
        }
      ]
    },
    {
      "cell_type": "markdown",
      "metadata": {
        "id": "lIjnq6B9Fuw9",
        "colab_type": "text"
      },
      "source": [
        "\n",
        "range(n) 生成一个0 到 n 的序列，但是不包括 n\n",
        "\n",
        "把for 放在list 里面用于生成新的list \n",
        "\n",
        "列表生成也可以加上if。。。else 条件判断\n",
        "\n",
        "zip 可以把两个list 打包在一起，两个不同的元素打包成二元组tuple  "
      ]
    }
  ]
}