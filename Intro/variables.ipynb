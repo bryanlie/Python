{
  "nbformat": 4,
  "nbformat_minor": 0,
  "metadata": {
    "colab": {
      "name": "Copy of Copy of variables.ipynb",
      "provenance": [],
      "collapsed_sections": []
    },
    "kernelspec": {
      "name": "python3",
      "display_name": "Python 3"
    }
  },
  "cells": [
    {
      "cell_type": "markdown",
      "metadata": {
        "id": "iSMIBWEGqala",
        "colab_type": "text"
      },
      "source": [
        "# 基本数据类型\n",
        "包括整数, 浮点数, 字符串, 布尔值"
      ]
    },
    {
      "cell_type": "code",
      "metadata": {
        "id": "kZQBcShHqYFO",
        "colab_type": "code",
        "outputId": "1c9dfd3e-a063-43ca-fe09-dab53d929730",
        "colab": {
          "base_uri": "https://localhost:8080/",
          "height": 87
        }
      },
      "source": [
        "print(type(2))\n",
        "print(type(42.0))\n",
        "print(type('Hello, World!'))\n",
        "print(type(True))"
      ],
      "execution_count": 0,
      "outputs": [
        {
          "output_type": "stream",
          "text": [
            "<class 'int'>\n",
            "<class 'float'>\n",
            "<class 'str'>\n",
            "<class 'bool'>\n"
          ],
          "name": "stdout"
        }
      ]
    },
    {
      "cell_type": "markdown",
      "metadata": {
        "id": "YDowzAcrr-AR",
        "colab_type": "text"
      },
      "source": [
        "Python的整数没有大小限制, Python的浮点数也没有大小限制，但是超出一定范围就直接表示为inf（无限大）\n",
        "\n",
        "字符串是以单引号 ' 或双引号 \" 括起来的任意文本\n",
        "\n",
        "布尔值可以用and, or和not运算。\n",
        "\n",
        "空值是Python里一个特殊的值，用None表示\n",
        "\n",
        "Python 是大小写敏感的\n"
      ]
    },
    {
      "cell_type": "markdown",
      "metadata": {
        "id": "6xy59HCGtO1r",
        "colab_type": "text"
      },
      "source": [
        "# 定义变量并赋值"
      ]
    },
    {
      "cell_type": "code",
      "metadata": {
        "id": "jKYmHr0qtQ6n",
        "colab_type": "code",
        "colab": {}
      },
      "source": [
        "message = 'This is a message'\n",
        "miles = 60\n",
        "PI = 3.1415926535897932"
      ],
      "execution_count": 0,
      "outputs": []
    },
    {
      "cell_type": "markdown",
      "metadata": {
        "id": "yLFEN6-X3fyr",
        "colab_type": "text"
      },
      "source": [
        "简单计算"
      ]
    },
    {
      "cell_type": "code",
      "metadata": {
        "id": "sBwOnOsY3jtN",
        "colab_type": "code",
        "outputId": "09b60631-7a8c-40f5-a05f-bad8ea05d201",
        "colab": {
          "base_uri": "https://localhost:8080/",
          "height": 70
        }
      },
      "source": [
        "message = message + ' for you!'\n",
        "kilometers = miles * 1.61\n",
        "r = 2\n",
        "area = PI * r**2 \n",
        "print(message)\n",
        "print(miles, kilometers)\n",
        "print(r, area)"
      ],
      "execution_count": 0,
      "outputs": [
        {
          "output_type": "stream",
          "text": [
            "This is a message for you!\n",
            "60 96.60000000000001\n",
            "2 12.566370614359172\n"
          ],
          "name": "stdout"
        }
      ]
    },
    {
      "cell_type": "markdown",
      "metadata": {
        "id": "TY0GX6HPtOO7",
        "colab_type": "text"
      },
      "source": [
        "变量名必须是大小写英文、数字和_的组合"
      ]
    },
    {
      "cell_type": "code",
      "metadata": {
        "id": "2PUvVFblt-Id",
        "colab_type": "code",
        "outputId": "fdbf7d13-4d2e-4b9f-f86d-6e58b7228711",
        "colab": {
          "base_uri": "https://localhost:8080/",
          "height": 105
        }
      },
      "source": [
        "x, y = 5, 10\n",
        "print(\"x =\", x)\n",
        "print(\"y =\", y, '\\n')\n",
        "\n",
        "x, y = y, x\n",
        "print(\"x =\", x)\n",
        "print(\"y =\", y)"
      ],
      "execution_count": 0,
      "outputs": [
        {
          "output_type": "stream",
          "text": [
            "x = 5\n",
            "y = 10 \n",
            "\n",
            "x = 10\n",
            "y = 5\n"
          ],
          "name": "stdout"
        }
      ]
    },
    {
      "cell_type": "markdown",
      "metadata": {
        "id": "BbbcAt8cuROJ",
        "colab_type": "text"
      },
      "source": [
        "交换两个变量不需要中间变量"
      ]
    },
    {
      "cell_type": "code",
      "metadata": {
        "id": "gdEVZeWdwZqL",
        "colab_type": "code",
        "outputId": "e72182c8-d495-4062-afa1-b4b5b9baca74",
        "colab": {
          "base_uri": "https://localhost:8080/",
          "height": 598
        }
      },
      "source": [
        "import keyword\n",
        "keyword.kwlist"
      ],
      "execution_count": 0,
      "outputs": [
        {
          "output_type": "execute_result",
          "data": {
            "text/plain": [
              "['False',\n",
              " 'None',\n",
              " 'True',\n",
              " 'and',\n",
              " 'as',\n",
              " 'assert',\n",
              " 'break',\n",
              " 'class',\n",
              " 'continue',\n",
              " 'def',\n",
              " 'del',\n",
              " 'elif',\n",
              " 'else',\n",
              " 'except',\n",
              " 'finally',\n",
              " 'for',\n",
              " 'from',\n",
              " 'global',\n",
              " 'if',\n",
              " 'import',\n",
              " 'in',\n",
              " 'is',\n",
              " 'lambda',\n",
              " 'nonlocal',\n",
              " 'not',\n",
              " 'or',\n",
              " 'pass',\n",
              " 'raise',\n",
              " 'return',\n",
              " 'try',\n",
              " 'while',\n",
              " 'with',\n",
              " 'yield']"
            ]
          },
          "metadata": {
            "tags": []
          },
          "execution_count": 11
        }
      ]
    },
    {
      "cell_type": "markdown",
      "metadata": {
        "id": "UqU9qYOBwfYS",
        "colab_type": "text"
      },
      "source": [
        "Python 有自己的保留关键字，变量取名一般不建议用这些关键字做变量名"
      ]
    }
  ]
}