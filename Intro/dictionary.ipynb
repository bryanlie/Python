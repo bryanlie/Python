{
  "nbformat": 4,
  "nbformat_minor": 0,
  "metadata": {
    "colab": {
      "name": "dictionary.ipynb",
      "provenance": [],
      "collapsed_sections": []
    },
    "kernelspec": {
      "name": "python3",
      "display_name": "Python 3"
    }
  },
  "cells": [
    {
      "cell_type": "markdown",
      "metadata": {
        "id": "HRRNsGzbnxRG",
        "colab_type": "text"
      },
      "source": [
        "# Dict\n",
        "\n",
        "Python另一种内置的数据结构是字典：dict。字典类似于一种映射，采用键-值对（key-value pair）存储。"
      ]
    },
    {
      "cell_type": "code",
      "metadata": {
        "id": "EunZdtepnPZ0",
        "colab_type": "code",
        "outputId": "02b28f65-6340-41fd-8996-ee0c68e25046",
        "colab": {
          "base_uri": "https://localhost:8080/",
          "height": 53
        }
      },
      "source": [
        "empty_dict = {}\n",
        "print(empty_dict)\n",
        "empty_dict = dict()\n",
        "print(empty_dict)"
      ],
      "execution_count": 0,
      "outputs": [
        {
          "output_type": "stream",
          "text": [
            "{}\n",
            "{}\n"
          ],
          "name": "stdout"
        }
      ]
    },
    {
      "cell_type": "markdown",
      "metadata": {
        "id": "zEKr2GVCqhRC",
        "colab_type": "text"
      },
      "source": [
        "字典一般用花/大括号表示，定义空的字典时有两种办法\n"
      ]
    },
    {
      "cell_type": "code",
      "metadata": {
        "id": "J2UrWzOcuhDr",
        "colab_type": "code",
        "outputId": "69df1932-7dfd-4949-c21f-12f98c9f4135",
        "colab": {
          "base_uri": "https://localhost:8080/",
          "height": 71
        }
      },
      "source": [
        "eng2fr = {'I': 'je', 'love': 'amour', 'you': 'vous'}\n",
        "print(eng2fr)\n",
        "eng2fr['I love you'] = \"je t'aime\"\n",
        "print(eng2fr)\n",
        "eng2fr['you'] = 'tu'\n",
        "print(eng2fr)"
      ],
      "execution_count": 0,
      "outputs": [
        {
          "output_type": "stream",
          "text": [
            "{'I': 'je', 'love': 'amour', 'you': 'vous'}\n",
            "{'I': 'je', 'love': 'amour', 'you': 'vous', 'I love you': \"je t'aime\"}\n",
            "{'I': 'je', 'love': 'amour', 'you': 'tu', 'I love you': \"je t'aime\"}\n"
          ],
          "name": "stdout"
        }
      ]
    },
    {
      "cell_type": "markdown",
      "metadata": {
        "id": "WiSB_UO8u9uX",
        "colab_type": "text"
      },
      "source": [
        "初始化一个dict时，依次输入键值对，次序没有先后之分\n",
        "\n",
        "添加数据到dict时，可以通过key放入，注意这时key是新的\n",
        "\n",
        "如果key是已经存在的，那么相应的value将被改变，因为一个key只能对应一个value"
      ]
    },
    {
      "cell_type": "code",
      "metadata": {
        "id": "IkcHs5u7wpxt",
        "colab_type": "code",
        "outputId": "a74ea402-3402-4e5b-aef7-e86846760ad9",
        "colab": {
          "base_uri": "https://localhost:8080/",
          "height": 53
        }
      },
      "source": [
        "print(len(eng2fr))\n",
        "'love' in eng2fr \n"
      ],
      "execution_count": 0,
      "outputs": [
        {
          "output_type": "stream",
          "text": [
            "4\n"
          ],
          "name": "stdout"
        },
        {
          "output_type": "execute_result",
          "data": {
            "text/plain": [
              "True"
            ]
          },
          "metadata": {
            "tags": []
          },
          "execution_count": 13
        }
      ]
    },
    {
      "cell_type": "markdown",
      "metadata": {
        "id": "NijPD1c0xRrM",
        "colab_type": "text"
      },
      "source": [
        "len() 计算键值对的个数\n",
        "\n",
        "key in dict 判断键值是否在字典里面\n"
      ]
    },
    {
      "cell_type": "code",
      "metadata": {
        "id": "PA8znsy-3JB5",
        "colab_type": "code",
        "outputId": "a9285e08-74cc-4dbb-e542-96df6c1c44d6",
        "colab": {
          "base_uri": "https://localhost:8080/",
          "height": 207
        }
      },
      "source": [
        "print(eng2fr['I'])\n",
        "eng2fr['we']"
      ],
      "execution_count": 0,
      "outputs": [
        {
          "output_type": "stream",
          "text": [
            "je\n"
          ],
          "name": "stdout"
        },
        {
          "output_type": "error",
          "ename": "KeyError",
          "evalue": "ignored",
          "traceback": [
            "\u001b[0;31m---------------------------------------------------------------------------\u001b[0m",
            "\u001b[0;31mKeyError\u001b[0m                                  Traceback (most recent call last)",
            "\u001b[0;32m<ipython-input-14-9b9007b938f3>\u001b[0m in \u001b[0;36m<module>\u001b[0;34m()\u001b[0m\n\u001b[1;32m      1\u001b[0m \u001b[0mprint\u001b[0m\u001b[0;34m(\u001b[0m\u001b[0meng2fr\u001b[0m\u001b[0;34m[\u001b[0m\u001b[0;34m'I'\u001b[0m\u001b[0;34m]\u001b[0m\u001b[0;34m)\u001b[0m\u001b[0;34m\u001b[0m\u001b[0;34m\u001b[0m\u001b[0m\n\u001b[0;32m----> 2\u001b[0;31m \u001b[0meng2fr\u001b[0m\u001b[0;34m[\u001b[0m\u001b[0;34m'we'\u001b[0m\u001b[0;34m]\u001b[0m\u001b[0;34m\u001b[0m\u001b[0;34m\u001b[0m\u001b[0m\n\u001b[0m",
            "\u001b[0;31mKeyError\u001b[0m: 'we'"
          ]
        }
      ]
    },
    {
      "cell_type": "markdown",
      "metadata": {
        "id": "5cd9cwTQ3PAX",
        "colab_type": "text"
      },
      "source": [
        "读取字典时，用key直接得到相应得value，这里用 [ ]\n",
        "\n",
        "如果key不存在，dict就会报错：KeyError"
      ]
    },
    {
      "cell_type": "markdown",
      "metadata": {
        "id": "42WmR4ox7Rxq",
        "colab_type": "text"
      },
      "source": [
        "## Dict 方法"
      ]
    },
    {
      "cell_type": "code",
      "metadata": {
        "id": "7w3zAdfJARRO",
        "colab_type": "code",
        "outputId": "5abafaba-0713-4d2d-a1ae-ba575734ee83",
        "colab": {
          "base_uri": "https://localhost:8080/",
          "height": 35
        }
      },
      "source": [
        "keys_list = eng2fr.keys()\n",
        "print(keys_list)"
      ],
      "execution_count": 0,
      "outputs": [
        {
          "output_type": "stream",
          "text": [
            "dict_keys(['I', 'love', 'you', 'I love you'])\n"
          ],
          "name": "stdout"
        }
      ]
    },
    {
      "cell_type": "markdown",
      "metadata": {
        "id": "dHoXzwTLAZi2",
        "colab_type": "text"
      },
      "source": [
        "keys() 返回key 组成的 list "
      ]
    },
    {
      "cell_type": "code",
      "metadata": {
        "id": "j6t3hRAvxPLF",
        "colab_type": "code",
        "outputId": "67ffc2b8-8469-49c0-db9a-7c16b8680fc3",
        "colab": {
          "base_uri": "https://localhost:8080/",
          "height": 35
        }
      },
      "source": [
        "vals = eng2fr.values()\n",
        "'vous' in vals"
      ],
      "execution_count": 0,
      "outputs": [
        {
          "output_type": "execute_result",
          "data": {
            "text/plain": [
              "False"
            ]
          },
          "metadata": {
            "tags": []
          },
          "execution_count": 16
        }
      ]
    },
    {
      "cell_type": "markdown",
      "metadata": {
        "id": "avNd1luPx42j",
        "colab_type": "text"
      },
      "source": [
        "如果要判断值是否在字典里面，可以先取values()"
      ]
    },
    {
      "cell_type": "code",
      "metadata": {
        "id": "lm8nqOF40JYJ",
        "colab_type": "code",
        "outputId": "3c7d1e68-c2a6-4c2f-968d-50697da95010",
        "colab": {
          "base_uri": "https://localhost:8080/",
          "height": 53
        }
      },
      "source": [
        "print(eng2fr.get('you'))\n",
        "eng2fr.get('we', -1)"
      ],
      "execution_count": 0,
      "outputs": [
        {
          "output_type": "stream",
          "text": [
            "tu\n"
          ],
          "name": "stdout"
        },
        {
          "output_type": "execute_result",
          "data": {
            "text/plain": [
              "-1"
            ]
          },
          "metadata": {
            "tags": []
          },
          "execution_count": 17
        }
      ]
    },
    {
      "cell_type": "markdown",
      "metadata": {
        "id": "2P6tW5nO0tS1",
        "colab_type": "text"
      },
      "source": [
        "读取字典时，也可以用 get()\n",
        "\n",
        "但是当key不存在时，get可以设置默认值输出，此处为 -1"
      ]
    },
    {
      "cell_type": "code",
      "metadata": {
        "id": "tMi1J0o0_lCU",
        "colab_type": "code",
        "outputId": "7990fb8e-022b-4566-de7e-0a05cc67e3d7",
        "colab": {
          "base_uri": "https://localhost:8080/",
          "height": 71
        }
      },
      "source": [
        "eng2fr.pop('I love you')\n",
        "print(eng2fr)\n",
        "eng2fr['we'] = 'nous'\n",
        "print(eng2fr)\n",
        "eng2fr.popitem()\n",
        "print(eng2fr)"
      ],
      "execution_count": 0,
      "outputs": [
        {
          "output_type": "stream",
          "text": [
            "{'I': 'je', 'love': 'amour', 'you': 'tu'}\n",
            "{'I': 'je', 'love': 'amour', 'you': 'tu', 'we': 'nous'}\n",
            "{'I': 'je', 'love': 'amour', 'you': 'tu'}\n"
          ],
          "name": "stdout"
        }
      ]
    },
    {
      "cell_type": "markdown",
      "metadata": {
        "id": "5v55Xeak_2c6",
        "colab_type": "text"
      },
      "source": [
        "pop() 可以弹出key和相应的value\n",
        "\n",
        "popitem() 可以弹出最后一个添加的键值对"
      ]
    },
    {
      "cell_type": "code",
      "metadata": {
        "id": "7JOGZq8TBXNc",
        "colab_type": "code",
        "outputId": "97e20f4e-bd97-417b-adcd-175255be7127",
        "colab": {
          "base_uri": "https://localhost:8080/",
          "height": 71
        }
      },
      "source": [
        "for k,v in eng2fr.items():\n",
        "  print(k, '->', v)"
      ],
      "execution_count": 0,
      "outputs": [
        {
          "output_type": "stream",
          "text": [
            "I -> je\n",
            "love -> amour\n",
            "you -> tu\n"
          ],
          "name": "stdout"
        }
      ]
    },
    {
      "cell_type": "markdown",
      "metadata": {
        "id": "Lg_OO7JpCVV9",
        "colab_type": "text"
      },
      "source": [
        "items() 返回键值对的 list\n",
        "\n",
        "以上for loop 可以用来遍历 dict"
      ]
    },
    {
      "cell_type": "code",
      "metadata": {
        "id": "IsSRgu8CDSKf",
        "colab_type": "code",
        "outputId": "88cdc784-fdc7-4cd5-ecbd-990144e9c1d7",
        "colab": {
          "base_uri": "https://localhost:8080/",
          "height": 35
        }
      },
      "source": [
        "eng2fr.update({'please': \"s'il vous plait\"})\n",
        "eng2fr.update([('okay', \"d'accord\")])\n",
        "eng2fr.update(you = 'vous')\n",
        "print(eng2fr)"
      ],
      "execution_count": 0,
      "outputs": [
        {
          "output_type": "stream",
          "text": [
            "{'I': 'je', 'love': 'amour', 'you': 'vous', 'please': \"s'il vous plait\", 'okay': \"d'accord\"}\n"
          ],
          "name": "stdout"
        }
      ]
    },
    {
      "cell_type": "markdown",
      "metadata": {
        "id": "NGuvjTT5FPhr",
        "colab_type": "text"
      },
      "source": [
        "添加/更新 dict，也可以用update()\n",
        "\n",
        "Python 比较随意，可以有不用的键值对表示"
      ]
    }
  ]
}