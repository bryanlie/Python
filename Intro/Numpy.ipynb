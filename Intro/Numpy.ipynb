{
  "nbformat": 4,
  "nbformat_minor": 0,
  "metadata": {
    "colab": {
      "name": "Numpy.ipynb",
      "provenance": [],
      "collapsed_sections": []
    },
    "kernelspec": {
      "name": "python3",
      "display_name": "Python 3"
    }
  },
  "cells": [
    {
      "cell_type": "markdown",
      "metadata": {
        "id": "phWoBU-WG7vD",
        "colab_type": "text"
      },
      "source": [
        "# NumPy (Numerical Python) \n",
        "是 Python 的一个用于科学计算扩展库，支持高维数组与矩阵运算，针对数组运算提供了大量的数学函数库。\n",
        "\n",
        "## Ndarray 对象\n",
        "\n",
        "NumPy 最重要的一个特点是其 N 维数组对象 ndarray，它是一系列同类型数据的集合。\n",
        "\n",
        "注意array 和 list 的区别，list 元素可以是不同类型数据。"
      ]
    },
    {
      "cell_type": "code",
      "metadata": {
        "id": "BqHVdRquGy3Y",
        "colab_type": "code",
        "colab": {
          "base_uri": "https://localhost:8080/",
          "height": 53
        },
        "outputId": "044b795c-fa2c-4fac-b0a5-1a9a69ca7059"
      },
      "source": [
        "import numpy as np \n",
        "a = np.array([1,2,3])  \n",
        "print(type(a))\n",
        "print(a)"
      ],
      "execution_count": null,
      "outputs": [
        {
          "output_type": "stream",
          "text": [
            "<class 'numpy.ndarray'>\n",
            "[1 2 3]\n"
          ],
          "name": "stdout"
        }
      ]
    },
    {
      "cell_type": "markdown",
      "metadata": {
        "id": "IoTwzq05R_Dz",
        "colab_type": "text"
      },
      "source": [
        "数据类型 (dtype) 参数"
      ]
    },
    {
      "cell_type": "code",
      "metadata": {
        "id": "GuUnxc8VSi0B",
        "colab_type": "code",
        "colab": {
          "base_uri": "https://localhost:8080/",
          "height": 88
        },
        "outputId": "10043507-195c-4877-9b2c-bb29b7da790d"
      },
      "source": [
        "a = np.array([1,2,3], dtype=float)  \n",
        "print(a)\n",
        "\n",
        "b = a.tolist()\n",
        "print(type(b))\n",
        "print(b)\n",
        "\n",
        "print(np.asarray(b))"
      ],
      "execution_count": null,
      "outputs": [
        {
          "output_type": "stream",
          "text": [
            "[1. 2. 3.]\n",
            "<class 'list'>\n",
            "[1.0, 2.0, 3.0]\n",
            "[1. 2. 3.]\n"
          ],
          "name": "stdout"
        }
      ]
    },
    {
      "cell_type": "markdown",
      "metadata": {
        "id": "zPcTE_eBWHP2",
        "colab_type": "text"
      },
      "source": [
        "tolist()  可以把 numpy.ndarray 转化成 list\n",
        "\n",
        "asarray() 可以把 list 转化成 numpy.ndarray "
      ]
    },
    {
      "cell_type": "markdown",
      "metadata": {
        "id": "V68KtfpfSyQk",
        "colab_type": "text"
      },
      "source": [
        "另一个有用的参数是最小维度 (ndmin)  "
      ]
    },
    {
      "cell_type": "code",
      "metadata": {
        "id": "sJKN5mGBTEue",
        "colab_type": "code",
        "colab": {
          "base_uri": "https://localhost:8080/",
          "height": 35
        },
        "outputId": "89ebc09d-1f9b-476a-88ad-97f5e9b1ba53"
      },
      "source": [
        "a = np.array([1,2,3], dtype=float, ndmin=2)  \n",
        "print (a)"
      ],
      "execution_count": null,
      "outputs": [
        {
          "output_type": "stream",
          "text": [
            "[[1. 2. 3.]]\n"
          ],
          "name": "stdout"
        }
      ]
    },
    {
      "cell_type": "markdown",
      "metadata": {
        "id": "5GQY3DO6Tj3Q",
        "colab_type": "text"
      },
      "source": [
        "## NumPy 数组属性 \n",
        "\n",
        "维数(ndim) 形状(shape) 元素总个数(size) "
      ]
    },
    {
      "cell_type": "code",
      "metadata": {
        "id": "ndoMWCAqUG0G",
        "colab_type": "code",
        "colab": {
          "base_uri": "https://localhost:8080/",
          "height": 231
        },
        "outputId": "b01cad7b-8392-41ca-ab63-dc09b57c4675"
      },
      "source": [
        "b = np.arange(24)  \n",
        "print(b.ndim)   \n",
        "print(b)          \n",
        "\n",
        "b = b.reshape(2,4,3)  \n",
        "print(b.ndim)\n",
        "print(b)"
      ],
      "execution_count": null,
      "outputs": [
        {
          "output_type": "stream",
          "text": [
            "1\n",
            "[ 0  1  2  3  4  5  6  7  8  9 10 11 12 13 14 15 16 17 18 19 20 21 22 23]\n",
            "3\n",
            "[[[ 0  1  2]\n",
            "  [ 3  4  5]\n",
            "  [ 6  7  8]\n",
            "  [ 9 10 11]]\n",
            "\n",
            " [[12 13 14]\n",
            "  [15 16 17]\n",
            "  [18 19 20]\n",
            "  [21 22 23]]]\n"
          ],
          "name": "stdout"
        }
      ]
    },
    {
      "cell_type": "markdown",
      "metadata": {
        "id": "hCHWT_caUWvY",
        "colab_type": "text"
      },
      "source": [
        "reshape() 改变维数"
      ]
    },
    {
      "cell_type": "code",
      "metadata": {
        "id": "HUGRtioMUJ8o",
        "colab_type": "code",
        "colab": {
          "base_uri": "https://localhost:8080/",
          "height": 160
        },
        "outputId": "1f58b9fe-ac61-4644-bd8a-b72c73a00794"
      },
      "source": [
        "a = np.array([[1,2,3],[4,5,6]])  \n",
        "print (a.shape)\n",
        "\n",
        "a.shape =  (3,2)  \n",
        "print(a)\n",
        "\n",
        "a = a.T\n",
        "print(a)\n",
        "print(a.size)\n",
        "print(a.flatten())"
      ],
      "execution_count": null,
      "outputs": [
        {
          "output_type": "stream",
          "text": [
            "(2, 3)\n",
            "[[1 2]\n",
            " [3 4]\n",
            " [5 6]]\n",
            "[[1 3 5]\n",
            " [2 4 6]]\n",
            "6\n",
            "[1 3 5 2 4 6]\n"
          ],
          "name": "stdout"
        }
      ]
    },
    {
      "cell_type": "markdown",
      "metadata": {
        "id": "r_kMM0pklKJZ",
        "colab_type": "text"
      },
      "source": [
        "transpose() 是矩阵转置，简写成 T\n",
        "\n",
        "flatten() 可以转化成 1 维数组\n",
        "\n"
      ]
    },
    {
      "cell_type": "markdown",
      "metadata": {
        "id": "dFX9VyCqla4b",
        "colab_type": "text"
      },
      "source": [
        "## 数学计算"
      ]
    },
    {
      "cell_type": "code",
      "metadata": {
        "id": "IgvvDsZJljr0",
        "colab_type": "code",
        "colab": {
          "base_uri": "https://localhost:8080/",
          "height": 160
        },
        "outputId": "a55ad1ea-1103-4bbc-e95e-a85fac958c9b"
      },
      "source": [
        "a = np.linspace(1, 20, 10, dtype=float)\n",
        "print(a)\n",
        "print(a.sum())\n",
        "print(a.std())\n",
        "print(a**2)\n",
        "print(np.sqrt(a))\n"
      ],
      "execution_count": null,
      "outputs": [
        {
          "output_type": "stream",
          "text": [
            "[ 1.          3.11111111  5.22222222  7.33333333  9.44444444 11.55555556\n",
            " 13.66666667 15.77777778 17.88888889 20.        ]\n",
            "105.0\n",
            "6.063705015790141\n",
            "[  1.           9.67901235  27.27160494  53.77777778  89.19753086\n",
            " 133.5308642  186.77777778 248.9382716  320.01234568 400.        ]\n",
            "[1.         1.76383421 2.2852182  2.7080128  3.07318149 3.39934634\n",
            " 3.6968455  3.9721251  4.22952585 4.47213595]\n"
          ],
          "name": "stdout"
        }
      ]
    },
    {
      "cell_type": "markdown",
      "metadata": {
        "id": "B0XmP_hGmsPt",
        "colab_type": "text"
      },
      "source": [
        "布尔运算, 逻辑运算"
      ]
    },
    {
      "cell_type": "code",
      "metadata": {
        "id": "oFb1z7GDmwq3",
        "colab_type": "code",
        "colab": {
          "base_uri": "https://localhost:8080/",
          "height": 178
        },
        "outputId": "fe0c0b96-b696-4188-ba21-dfb0c06fee6a"
      },
      "source": [
        "a = np.arange(0, 30, 2)\n",
        "a = a.reshape((3, -1))\n",
        "print(a)\n",
        "print(a > 8)\n",
        "print(np.where(a > 8, 1, 0))"
      ],
      "execution_count": null,
      "outputs": [
        {
          "output_type": "stream",
          "text": [
            "[[ 0  2  4  6  8]\n",
            " [10 12 14 16 18]\n",
            " [20 22 24 26 28]]\n",
            "[[False False False False False]\n",
            " [ True  True  True  True  True]\n",
            " [ True  True  True  True  True]]\n",
            "[[0 0 0 0 0]\n",
            " [1 1 1 1 1]\n",
            " [1 1 1 1 1]]\n"
          ],
          "name": "stdout"
        }
      ]
    },
    {
      "cell_type": "markdown",
      "metadata": {
        "id": "kPhGgdrL1UNg",
        "colab_type": "text"
      },
      "source": [
        "向量点积(dot product) 也就是内积 (inner product)\n",
        "\n",
        "协方差(Covariance) \n",
        "\n",
        "$ {cov} (X,Y)= {E} [(X-\\mu )(Y-\\nu )]= {E} (X\\cdot Y)-\\mu \\nu$ \n",
        "\n",
        "相关系数 (Correlation coefficients)\n",
        "\n",
        "$\\eta = \\frac{cov(X, Y)}{ \\sqrt{var(X) var(Y)}}$"
      ]
    },
    {
      "cell_type": "code",
      "metadata": {
        "id": "paxcUb6q1vbR",
        "colab_type": "code",
        "colab": {
          "base_uri": "https://localhost:8080/",
          "height": 214
        },
        "outputId": "b3173f2e-315d-472b-ccc6-9cfa709ecd3a"
      },
      "source": [
        "a = np.random.randint(100, size=(6))\n",
        "b = np.random.randint(100, size=(6))\n",
        "print(a)\n",
        "print(b)\n",
        "\n",
        "print(np.dot(a, b))\n",
        "print(np.inner(a, b))\n",
        "print(a.dot(b))\n",
        "\n",
        "print(np.cov(a, b))\n",
        "print(np.corrcoef(a, b))\n",
        "\n",
        "def correlation_from_covariance(covariance):\n",
        "    v = np.sqrt(np.diag(covariance))\n",
        "    outer_v = np.outer(v, v)\n",
        "    correlation = covariance / outer_v\n",
        "    correlation[covariance == 0] = 0\n",
        "    return correlation\n",
        "\n",
        "print(correlation_from_covariance(np.cov(a, b)))"
      ],
      "execution_count": null,
      "outputs": [
        {
          "output_type": "stream",
          "text": [
            "[94 48 93 18 40 87]\n",
            "[22 53 94 71 55 20]\n",
            "18572\n",
            "18572\n",
            "18572\n",
            "[[1043.06666667 -275.6       ]\n",
            " [-275.6         811.5       ]]\n",
            "[[ 1.         -0.29955662]\n",
            " [-0.29955662  1.        ]]\n",
            "[[ 1.         -0.29955662]\n",
            " [-0.29955662  1.        ]]\n"
          ],
          "name": "stdout"
        }
      ]
    },
    {
      "cell_type": "markdown",
      "metadata": {
        "id": "TCJBf_zjqFtB",
        "colab_type": "text"
      },
      "source": [
        "## 生成随机数"
      ]
    },
    {
      "cell_type": "code",
      "metadata": {
        "id": "u4H93-p4qVmP",
        "colab_type": "code",
        "colab": {
          "base_uri": "https://localhost:8080/",
          "height": 160
        },
        "outputId": "73d28fbb-362e-4514-b6ab-17996d7b4ca8"
      },
      "source": [
        "a = np.random.randint(100, size=(3, 5))\n",
        "print(a)\n",
        "\n",
        "a = np.random.rand(3, 5)\n",
        "print(a)\n",
        "\n",
        "b = np.random.choice(a.flatten(), size=(2, 2))\n",
        "print(b)"
      ],
      "execution_count": null,
      "outputs": [
        {
          "output_type": "stream",
          "text": [
            "[[31 50 10 31 97]\n",
            " [12 79 56 81 45]\n",
            " [36 10 74  2 51]]\n",
            "[[0.72800784 0.37510438 0.59774094 0.44156067 0.32087464]\n",
            " [0.14051231 0.49879463 0.27533748 0.40289116 0.85215504]\n",
            " [0.96351166 0.35580741 0.8970453  0.80556543 0.66364951]]\n",
            "[[0.49879463 0.40289116]\n",
            " [0.44156067 0.49879463]]\n"
          ],
          "name": "stdout"
        }
      ]
    },
    {
      "cell_type": "markdown",
      "metadata": {
        "id": "4ouhsIwOrIuJ",
        "colab_type": "text"
      },
      "source": [
        "randint(n) 生成0 到 n 之间的随机整数\n",
        "\n",
        "rand()     生成0 到 1 之间的随机分数\n",
        "\n",
        "choice()   是从1 维的数组随机选取"
      ]
    },
    {
      "cell_type": "markdown",
      "metadata": {
        "id": "5tWC3S6iscc4",
        "colab_type": "text"
      },
      "source": [
        "## 各种概率分布\n",
        "\n",
        "正态分布"
      ]
    },
    {
      "cell_type": "code",
      "metadata": {
        "id": "k4_OWTuNsl0s",
        "colab_type": "code",
        "colab": {
          "base_uri": "https://localhost:8080/",
          "height": 410
        },
        "outputId": "463a423a-bfbf-4b98-94c0-6c9172a2922c"
      },
      "source": [
        "a = np.random.normal(size=(2, 3))\n",
        "print(a)\n",
        "\n",
        "a = np.random.normal(loc=1, scale=2, size=(2, 3))\n",
        "print(a)\n",
        "\n",
        "import matplotlib.pyplot as plt\n",
        "import seaborn as sns\n",
        "\n",
        "sns.distplot(np.random.normal(size=1000), hist=False)"
      ],
      "execution_count": null,
      "outputs": [
        {
          "output_type": "stream",
          "text": [
            "[[ 0.94659459  1.33711196  0.06222322]\n",
            " [ 0.08148854  0.22793709 -0.95218741]]\n",
            "[[-2.29556267  1.51864512  0.48006937]\n",
            " [ 1.03199252  0.13573824 -0.57958897]]\n"
          ],
          "name": "stdout"
        },
        {
          "output_type": "stream",
          "text": [
            "/usr/local/lib/python3.6/dist-packages/statsmodels/tools/_testing.py:19: FutureWarning: pandas.util.testing is deprecated. Use the functions in the public API at pandas.testing instead.\n",
            "  import pandas.util.testing as tm\n"
          ],
          "name": "stderr"
        },
        {
          "output_type": "execute_result",
          "data": {
            "text/plain": [
              "<matplotlib.axes._subplots.AxesSubplot at 0x7fa039f5af98>"
            ]
          },
          "metadata": {
            "tags": []
          },
          "execution_count": 10
        },
        {
          "output_type": "display_data",
          "data": {
            "image/png": "[encoded data removed]",
            "text/plain": [
              "<Figure size 432x288 with 1 Axes>"
            ]
          },
          "metadata": {
            "tags": [],
            "needs_background": "light"
          }
        }
      ]
    },
    {
      "cell_type": "markdown",
      "metadata": {
        "id": "D1op0OUstU-G",
        "colab_type": "text"
      },
      "source": [
        "二项分布"
      ]
    },
    {
      "cell_type": "code",
      "metadata": {
        "id": "uWEm3_cetba2",
        "colab_type": "code",
        "colab": {
          "base_uri": "https://localhost:8080/",
          "height": 301
        },
        "outputId": "a41ed42a-9c4f-4af1-81b3-773d0095ebd6"
      },
      "source": [
        "a = np.random.binomial(n=10, p=0.5, size=10)\n",
        "print(a)\n",
        "sns.distplot(np.random.binomial(n=10, p=0.5, size=1000), hist=True, kde=False)"
      ],
      "execution_count": null,
      "outputs": [
        {
          "output_type": "stream",
          "text": [
            "[3 3 3 4 6 4 4 5 5 7]\n"
          ],
          "name": "stdout"
        },
        {
          "output_type": "execute_result",
          "data": {
            "text/plain": [
              "<matplotlib.axes._subplots.AxesSubplot at 0x7fa0397eef98>"
            ]
          },
          "metadata": {
            "tags": []
          },
          "execution_count": 11
        },
        {
          "output_type": "display_data",
          "data": {
            "image/png": "[encoded data removed]",
            "text/plain": [
              "<Figure size 432x288 with 1 Axes>"
            ]
          },
          "metadata": {
            "tags": [],
            "needs_background": "light"
          }
        }
      ]
    },
    {
      "cell_type": "markdown",
      "metadata": {
        "id": "0XYCDo4Jt1KH",
        "colab_type": "text"
      },
      "source": [
        "还有其他分布也类似，如Possion 分布，均匀分布，$\\chi^2$ 分布等"
      ]
    },
    {
      "cell_type": "markdown",
      "metadata": {
        "id": "ockfyoh7uSd_",
        "colab_type": "text"
      },
      "source": [
        "## 向量化 (Vectorization)"
      ]
    },
    {
      "cell_type": "code",
      "metadata": {
        "id": "CxzMNuwHu8f4",
        "colab_type": "code",
        "colab": {
          "base_uri": "https://localhost:8080/",
          "height": 517
        },
        "outputId": "bc3bd25b-61df-4ba3-925e-cec0aa0d0ee1"
      },
      "source": [
        "np.random.seed(100)\n",
        "r = np.arange(12).reshape((4, 3))  \n",
        "s = np.arange(12).reshape((4, 3)) * 3\n",
        "\n",
        "print(r)\n",
        "print(s)\n",
        "print(r + s)\n",
        "print(np.add(r, s))\n",
        "print(np.divide(r, s))\n",
        "\n",
        "print(np.isnan(np.divide(r, s)))"
      ],
      "execution_count": null,
      "outputs": [
        {
          "output_type": "stream",
          "text": [
            "[[ 0  1  2]\n",
            " [ 3  4  5]\n",
            " [ 6  7  8]\n",
            " [ 9 10 11]]\n",
            "[[ 0  3  6]\n",
            " [ 9 12 15]\n",
            " [18 21 24]\n",
            " [27 30 33]]\n",
            "[[ 0  4  8]\n",
            " [12 16 20]\n",
            " [24 28 32]\n",
            " [36 40 44]]\n",
            "[[ 0  4  8]\n",
            " [12 16 20]\n",
            " [24 28 32]\n",
            " [36 40 44]]\n",
            "[[       nan 0.33333333 0.33333333]\n",
            " [0.33333333 0.33333333 0.33333333]\n",
            " [0.33333333 0.33333333 0.33333333]\n",
            " [0.33333333 0.33333333 0.33333333]]\n",
            "[[ True False False]\n",
            " [False False False]\n",
            " [False False False]\n",
            " [False False False]]\n"
          ],
          "name": "stdout"
        },
        {
          "output_type": "stream",
          "text": [
            "/usr/local/lib/python3.6/dist-packages/ipykernel_launcher.py:9: RuntimeWarning: invalid value encountered in true_divide\n",
            "  if __name__ == '__main__':\n",
            "/usr/local/lib/python3.6/dist-packages/ipykernel_launcher.py:11: RuntimeWarning: invalid value encountered in true_divide\n",
            "  # This is added back by InteractiveShellApp.init_path()\n"
          ],
          "name": "stderr"
        }
      ]
    },
    {
      "cell_type": "code",
      "metadata": {
        "id": "9CRRh2fZvR9V",
        "colab_type": "code",
        "colab": {
          "base_uri": "https://localhost:8080/",
          "height": 88
        },
        "outputId": "c54b0008-36bc-4eca-f348-7eff3676a0e3"
      },
      "source": [
        "def f(x):\n",
        "    return x**2 + 3 * x + 5\n",
        "\n",
        "f(r)"
      ],
      "execution_count": null,
      "outputs": [
        {
          "output_type": "execute_result",
          "data": {
            "text/plain": [
              "array([[  5,   9,  15],\n",
              "       [ 23,  33,  45],\n",
              "       [ 59,  75,  93],\n",
              "       [113, 135, 159]])"
            ]
          },
          "metadata": {
            "tags": []
          },
          "execution_count": 13
        }
      ]
    }
  ]
}